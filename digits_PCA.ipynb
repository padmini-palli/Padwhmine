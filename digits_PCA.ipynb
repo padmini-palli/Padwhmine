{
  "nbformat": 4,
  "nbformat_minor": 0,
  "metadata": {
    "colab": {
      "name": "digits_pca.ipynb",
      "provenance": [],
      "collapsed_sections": [],
      "authorship_tag": "ABX9TyP4bYq/j3x3aOLVF81i58Fz"
    },
    "kernelspec": {
      "name": "python3",
      "display_name": "Python 3"
    }
  },
  "cells": [
    {
      "cell_type": "code",
      "metadata": {
        "id": "jfBT8DRH4G0x",
        "colab_type": "code",
        "outputId": "813406a4-d4bc-4510-f6ee-88d41996e220",
        "colab": {
          "base_uri": "https://localhost:8080/",
          "height": 1000
        }
      },
      "source": [
        "from sklearn import datasets, metrics\n",
        "from sklearn.model_selection import train_test_split\n",
        "digits = datasets.load_digits()\n",
        "digits"
      ],
      "execution_count": 0,
      "outputs": [
        {
          "output_type": "execute_result",
          "data": {
            "text/plain": [
              "{'DESCR': \".. _digits_dataset:\\n\\nOptical recognition of handwritten digits dataset\\n--------------------------------------------------\\n\\n**Data Set Characteristics:**\\n\\n    :Number of Instances: 5620\\n    :Number of Attributes: 64\\n    :Attribute Information: 8x8 image of integer pixels in the range 0..16.\\n    :Missing Attribute Values: None\\n    :Creator: E. Alpaydin (alpaydin '@' boun.edu.tr)\\n    :Date: July; 1998\\n\\nThis is a copy of the test set of the UCI ML hand-written digits datasets\\nhttps://archive.ics.uci.edu/ml/datasets/Optical+Recognition+of+Handwritten+Digits\\n\\nThe data set contains images of hand-written digits: 10 classes where\\neach class refers to a digit.\\n\\nPreprocessing programs made available by NIST were used to extract\\nnormalized bitmaps of handwritten digits from a preprinted form. From a\\ntotal of 43 people, 30 contributed to the training set and different 13\\nto the test set. 32x32 bitmaps are divided into nonoverlapping blocks of\\n4x4 and the number of on pixels are counted in each block. This generates\\nan input matrix of 8x8 where each element is an integer in the range\\n0..16. This reduces dimensionality and gives invariance to small\\ndistortions.\\n\\nFor info on NIST preprocessing routines, see M. D. Garris, J. L. Blue, G.\\nT. Candela, D. L. Dimmick, J. Geist, P. J. Grother, S. A. Janet, and C.\\nL. Wilson, NIST Form-Based Handprint Recognition System, NISTIR 5469,\\n1994.\\n\\n.. topic:: References\\n\\n  - C. Kaynak (1995) Methods of Combining Multiple Classifiers and Their\\n    Applications to Handwritten Digit Recognition, MSc Thesis, Institute of\\n    Graduate Studies in Science and Engineering, Bogazici University.\\n  - E. Alpaydin, C. Kaynak (1998) Cascading Classifiers, Kybernetika.\\n  - Ken Tang and Ponnuthurai N. Suganthan and Xi Yao and A. Kai Qin.\\n    Linear dimensionalityreduction using relevance weighted LDA. School of\\n    Electrical and Electronic Engineering Nanyang Technological University.\\n    2005.\\n  - Claudio Gentile. A New Approximate Maximal Margin Classification\\n    Algorithm. NIPS. 2000.\",\n",
              " 'data': array([[ 0.,  0.,  5., ...,  0.,  0.,  0.],\n",
              "        [ 0.,  0.,  0., ..., 10.,  0.,  0.],\n",
              "        [ 0.,  0.,  0., ..., 16.,  9.,  0.],\n",
              "        ...,\n",
              "        [ 0.,  0.,  1., ...,  6.,  0.,  0.],\n",
              "        [ 0.,  0.,  2., ..., 12.,  0.,  0.],\n",
              "        [ 0.,  0., 10., ..., 12.,  1.,  0.]]),\n",
              " 'images': array([[[ 0.,  0.,  5., ...,  1.,  0.,  0.],\n",
              "         [ 0.,  0., 13., ..., 15.,  5.,  0.],\n",
              "         [ 0.,  3., 15., ..., 11.,  8.,  0.],\n",
              "         ...,\n",
              "         [ 0.,  4., 11., ..., 12.,  7.,  0.],\n",
              "         [ 0.,  2., 14., ..., 12.,  0.,  0.],\n",
              "         [ 0.,  0.,  6., ...,  0.,  0.,  0.]],\n",
              " \n",
              "        [[ 0.,  0.,  0., ...,  5.,  0.,  0.],\n",
              "         [ 0.,  0.,  0., ...,  9.,  0.,  0.],\n",
              "         [ 0.,  0.,  3., ...,  6.,  0.,  0.],\n",
              "         ...,\n",
              "         [ 0.,  0.,  1., ...,  6.,  0.,  0.],\n",
              "         [ 0.,  0.,  1., ...,  6.,  0.,  0.],\n",
              "         [ 0.,  0.,  0., ..., 10.,  0.,  0.]],\n",
              " \n",
              "        [[ 0.,  0.,  0., ..., 12.,  0.,  0.],\n",
              "         [ 0.,  0.,  3., ..., 14.,  0.,  0.],\n",
              "         [ 0.,  0.,  8., ..., 16.,  0.,  0.],\n",
              "         ...,\n",
              "         [ 0.,  9., 16., ...,  0.,  0.,  0.],\n",
              "         [ 0.,  3., 13., ..., 11.,  5.,  0.],\n",
              "         [ 0.,  0.,  0., ..., 16.,  9.,  0.]],\n",
              " \n",
              "        ...,\n",
              " \n",
              "        [[ 0.,  0.,  1., ...,  1.,  0.,  0.],\n",
              "         [ 0.,  0., 13., ...,  2.,  1.,  0.],\n",
              "         [ 0.,  0., 16., ..., 16.,  5.,  0.],\n",
              "         ...,\n",
              "         [ 0.,  0., 16., ..., 15.,  0.,  0.],\n",
              "         [ 0.,  0., 15., ..., 16.,  0.,  0.],\n",
              "         [ 0.,  0.,  2., ...,  6.,  0.,  0.]],\n",
              " \n",
              "        [[ 0.,  0.,  2., ...,  0.,  0.,  0.],\n",
              "         [ 0.,  0., 14., ..., 15.,  1.,  0.],\n",
              "         [ 0.,  4., 16., ..., 16.,  7.,  0.],\n",
              "         ...,\n",
              "         [ 0.,  0.,  0., ..., 16.,  2.,  0.],\n",
              "         [ 0.,  0.,  4., ..., 16.,  2.,  0.],\n",
              "         [ 0.,  0.,  5., ..., 12.,  0.,  0.]],\n",
              " \n",
              "        [[ 0.,  0., 10., ...,  1.,  0.,  0.],\n",
              "         [ 0.,  2., 16., ...,  1.,  0.,  0.],\n",
              "         [ 0.,  0., 15., ..., 15.,  0.,  0.],\n",
              "         ...,\n",
              "         [ 0.,  4., 16., ..., 16.,  6.,  0.],\n",
              "         [ 0.,  8., 16., ..., 16.,  8.,  0.],\n",
              "         [ 0.,  1.,  8., ..., 12.,  1.,  0.]]]),\n",
              " 'target': array([0, 1, 2, ..., 8, 9, 8]),\n",
              " 'target_names': array([0, 1, 2, 3, 4, 5, 6, 7, 8, 9])}"
            ]
          },
          "metadata": {
            "tags": []
          },
          "execution_count": 3
        }
      ]
    },
    {
      "cell_type": "code",
      "metadata": {
        "id": "GuyUVvMn4ivo",
        "colab_type": "code",
        "colab": {}
      },
      "source": [
        "train_img, test_img, train_lbl, test_lbl = train_test_split( digits.data, digits.target, test_size=1/7.0, random_state=0)"
      ],
      "execution_count": 0,
      "outputs": []
    },
    {
      "cell_type": "code",
      "metadata": {
        "id": "6fhsuZQ8CYML",
        "colab_type": "code",
        "outputId": "a9855e34-63d3-419c-83af-3c9c5cee3bce",
        "colab": {
          "base_uri": "https://localhost:8080/",
          "height": 34
        }
      },
      "source": [
        "digits.data.shape"
      ],
      "execution_count": 0,
      "outputs": [
        {
          "output_type": "execute_result",
          "data": {
            "text/plain": [
              "(1797, 64)"
            ]
          },
          "metadata": {
            "tags": []
          },
          "execution_count": 21
        }
      ]
    },
    {
      "cell_type": "code",
      "metadata": {
        "id": "KXcFgXcyCeQC",
        "colab_type": "code",
        "outputId": "13d0f203-a8ce-4e69-ed71-b152064e30e6",
        "colab": {
          "base_uri": "https://localhost:8080/",
          "height": 34
        }
      },
      "source": [
        "digits.target.shape"
      ],
      "execution_count": 0,
      "outputs": [
        {
          "output_type": "execute_result",
          "data": {
            "text/plain": [
              "(1797,)"
            ]
          },
          "metadata": {
            "tags": []
          },
          "execution_count": 23
        }
      ]
    },
    {
      "cell_type": "code",
      "metadata": {
        "id": "1XxuY6xu4-j0",
        "colab_type": "code",
        "outputId": "e50227a7-bde7-49f1-ae49-c1aa9c1fe32c",
        "colab": {
          "base_uri": "https://localhost:8080/",
          "height": 238
        }
      },
      "source": [
        "from sklearn.preprocessing import StandardScaler\n",
        "scaler = StandardScaler()\n",
        "# Fit on training set only.\n",
        "scaler.fit(train_img)\n",
        "# Apply transform to both the training set and the test set.\n",
        "train_img = scaler.transform(train_img)\n",
        "test_img = scaler.transform(test_img)\n",
        "test_img\n"
      ],
      "execution_count": 0,
      "outputs": [
        {
          "output_type": "execute_result",
          "data": {
            "text/plain": [
              "array([[ 0.        , -0.33467389,  1.21597841, ...,  1.06979796,\n",
              "         3.46506643,  4.24676655],\n",
              "       [ 0.        ,  0.76660344,  2.0546781 , ..., -0.9691734 ,\n",
              "        -0.50052748, -0.19391957],\n",
              "       [ 0.        ,  1.86788076,  1.63532826, ...,  1.5795408 ,\n",
              "         3.46506643,  1.47133772],\n",
              "       ...,\n",
              "       [ 0.        ,  0.76660344,  2.0546781 , ...,  1.40962652,\n",
              "         2.22581833,  0.36116619],\n",
              "       [ 0.        , -0.33467389, -0.88077083, ..., -1.13908768,\n",
              "        -0.50052748, -0.19391957],\n",
              "       [ 0.        , -0.33467389,  0.58695364, ..., -0.45943056,\n",
              "        -0.50052748, -0.19391957]])"
            ]
          },
          "metadata": {
            "tags": []
          },
          "execution_count": 13
        }
      ]
    },
    {
      "cell_type": "code",
      "metadata": {
        "id": "80UfZMQiBcNe",
        "colab_type": "code",
        "outputId": "5bac4cda-8208-4ce8-99d5-ace2bd55253f",
        "colab": {
          "base_uri": "https://localhost:8080/",
          "height": 238
        }
      },
      "source": [
        "train_img"
      ],
      "execution_count": 0,
      "outputs": [
        {
          "output_type": "execute_result",
          "data": {
            "text/plain": [
              "array([[ 0.        ,  0.76660344,  1.42565333, ..., -1.13908768,\n",
              "        -0.50052748, -0.19391957],\n",
              "       [ 0.        , -0.33467389, -0.46142099, ..., -1.13908768,\n",
              "        -0.50052748, -0.19391957],\n",
              "       [ 0.        , -0.33467389, -0.67109591, ..., -0.9691734 ,\n",
              "        -0.50052748, -0.19391957],\n",
              "       ...,\n",
              "       [ 0.        , -0.33467389, -0.04207114, ..., -1.13908768,\n",
              "        -0.50052748, -0.19391957],\n",
              "       [ 0.        , -0.33467389, -0.25174606, ..., -1.13908768,\n",
              "        -0.50052748, -0.19391957],\n",
              "       [ 0.        , -0.33467389,  0.16760379, ...,  0.7299694 ,\n",
              "        -0.50052748, -0.19391957]])"
            ]
          },
          "metadata": {
            "tags": []
          },
          "execution_count": 14
        }
      ]
    },
    {
      "cell_type": "code",
      "metadata": {
        "id": "MRSnuQYBBnZx",
        "colab_type": "code",
        "outputId": "f33109a5-28dc-4c10-a7f4-aad327276672",
        "colab": {
          "base_uri": "https://localhost:8080/",
          "height": 51
        }
      },
      "source": [
        "from sklearn.decomposition import PCA\n",
        "# Make an instance of the Model\n",
        "pca = PCA(.95)\n",
        "pca"
      ],
      "execution_count": 0,
      "outputs": [
        {
          "output_type": "execute_result",
          "data": {
            "text/plain": [
              "PCA(copy=True, iterated_power='auto', n_components=0.95, random_state=None,\n",
              "    svd_solver='auto', tol=0.0, whiten=False)"
            ]
          },
          "metadata": {
            "tags": []
          },
          "execution_count": 8
        }
      ]
    },
    {
      "cell_type": "code",
      "metadata": {
        "id": "fOM2NKfCBwcV",
        "colab_type": "code",
        "outputId": "93d46698-c719-439e-df59-37fa414e9f15",
        "colab": {
          "base_uri": "https://localhost:8080/",
          "height": 51
        }
      },
      "source": [
        "pca.fit(train_img)"
      ],
      "execution_count": 0,
      "outputs": [
        {
          "output_type": "execute_result",
          "data": {
            "text/plain": [
              "PCA(copy=True, iterated_power='auto', n_components=0.95, random_state=None,\n",
              "    svd_solver='auto', tol=0.0, whiten=False)"
            ]
          },
          "metadata": {
            "tags": []
          },
          "execution_count": 15
        }
      ]
    },
    {
      "cell_type": "code",
      "metadata": {
        "id": "Zaqp1MQ1B2XO",
        "colab_type": "code",
        "outputId": "99a528fa-5e8b-43c0-de7c-94d0b54c7b53",
        "colab": {
          "base_uri": "https://localhost:8080/",
          "height": 34
        }
      },
      "source": [
        " pca.n_components_ "
      ],
      "execution_count": 0,
      "outputs": [
        {
          "output_type": "execute_result",
          "data": {
            "text/plain": [
              "40"
            ]
          },
          "metadata": {
            "tags": []
          },
          "execution_count": 16
        }
      ]
    },
    {
      "cell_type": "code",
      "metadata": {
        "id": "5yFjXB-ZB6SR",
        "colab_type": "code",
        "colab": {}
      },
      "source": [
        "train_img = pca.transform(train_img)\n",
        "test_img = pca.transform(test_img)"
      ],
      "execution_count": 0,
      "outputs": []
    },
    {
      "cell_type": "code",
      "metadata": {
        "id": "lKIEyZZiB9JA",
        "colab_type": "code",
        "outputId": "66929a82-0a05-4bf2-e936-e738b67bf153",
        "colab": {
          "base_uri": "https://localhost:8080/",
          "height": 238
        }
      },
      "source": [
        "test_img"
      ],
      "execution_count": 0,
      "outputs": [
        {
          "output_type": "execute_result",
          "data": {
            "text/plain": [
              "array([[-3.64691306e+00,  3.85517508e-01,  8.73333309e-01, ...,\n",
              "        -1.60710343e-02,  9.52336256e-02, -3.08382083e-01],\n",
              "       [-2.67697891e+00,  8.25246858e-01,  8.74628417e-01, ...,\n",
              "        -6.18878817e-01,  7.92302663e-03,  2.22675653e-01],\n",
              "       [-6.10186661e+00, -9.82596269e-01,  1.84397505e+00, ...,\n",
              "         7.48713393e-01,  2.40160304e-01,  2.89275913e-01],\n",
              "       ...,\n",
              "       [-5.48393185e+00, -2.61503923e+00,  1.83536758e+00, ...,\n",
              "         2.46567580e-03, -3.48296884e-01, -1.87637630e-01],\n",
              "       [ 1.35217235e+00,  2.02982560e+00,  4.93939003e-01, ...,\n",
              "        -5.49870180e-02,  1.02898388e-02, -1.09434160e-01],\n",
              "       [-4.99505005e-01, -8.79574069e-01, -3.86206163e+00, ...,\n",
              "         2.31457764e-01,  1.27703980e-01, -1.90430963e-01]])"
            ]
          },
          "metadata": {
            "tags": []
          },
          "execution_count": 19
        }
      ]
    },
    {
      "cell_type": "code",
      "metadata": {
        "id": "SzZYF4JjB8By",
        "colab_type": "code",
        "outputId": "1a833023-2375-4c54-eafe-31a59ed0dd9b",
        "colab": {
          "base_uri": "https://localhost:8080/",
          "height": 238
        }
      },
      "source": [
        "train_img"
      ],
      "execution_count": 0,
      "outputs": [
        {
          "output_type": "execute_result",
          "data": {
            "text/plain": [
              "array([[-1.62409335e+00,  2.27929151e+00,  1.13916327e+00, ...,\n",
              "         7.44574459e-02, -3.28020824e-03, -4.81721060e-01],\n",
              "       [ 3.08304691e+00,  4.51318643e+00, -8.59686917e-01, ...,\n",
              "        -4.72648272e-01, -8.68446151e-01, -3.33611625e-01],\n",
              "       [ 3.24335579e+00, -3.45051597e-01, -2.82493687e+00, ...,\n",
              "        -3.61937086e-01,  5.59562417e-01, -5.86497056e-01],\n",
              "       ...,\n",
              "       [ 1.59101441e-01,  1.95235316e+00,  2.10135355e+00, ...,\n",
              "         5.99329227e-01,  7.15435807e-02, -1.76413785e-01],\n",
              "       [ 1.37505827e+00,  3.24980448e+00,  5.81883011e-01, ...,\n",
              "         2.04230796e-01, -9.48531790e-01,  3.37607004e-01],\n",
              "       [-1.76423803e+00, -3.92221669e-01,  8.80606019e-02, ...,\n",
              "         5.19950252e-01,  8.55010100e-02,  4.32882572e-01]])"
            ]
          },
          "metadata": {
            "tags": []
          },
          "execution_count": 18
        }
      ]
    },
    {
      "cell_type": "code",
      "metadata": {
        "id": "PWlXadLdCp9B",
        "colab_type": "code",
        "outputId": "d6ed7f94-e8fd-4ced-c07d-2a4782d08d12",
        "colab": {
          "base_uri": "https://localhost:8080/",
          "height": 153
        }
      },
      "source": [
        "pca.explained_variance_ratio_\n"
      ],
      "execution_count": 0,
      "outputs": [
        {
          "output_type": "execute_result",
          "data": {
            "text/plain": [
              "array([0.12146235, 0.09611257, 0.08499037, 0.06517037, 0.04915015,\n",
              "       0.04184695, 0.03883336, 0.03323856, 0.03006202, 0.02887956,\n",
              "       0.02801953, 0.02581827, 0.02281684, 0.02204878, 0.02162844,\n",
              "       0.01895853, 0.01772836, 0.01627176, 0.01599192, 0.01503646,\n",
              "       0.01342637, 0.01283289, 0.01145681, 0.01065001, 0.00999741,\n",
              "       0.0094136 , 0.00850344, 0.00837928, 0.00788039, 0.00755071,\n",
              "       0.00733513, 0.00688693, 0.00654538, 0.00620566, 0.00600371,\n",
              "       0.00565317, 0.00518925, 0.00469403, 0.00455871, 0.00419503])"
            ]
          },
          "metadata": {
            "tags": []
          },
          "execution_count": 24
        }
      ]
    },
    {
      "cell_type": "code",
      "metadata": {
        "id": "gWLlaFYYCp3r",
        "colab_type": "code",
        "outputId": "b68f5696-535e-49ea-bfe9-d6d0c5b0030f",
        "colab": {
          "base_uri": "https://localhost:8080/",
          "height": 153
        }
      },
      "source": [
        "import numpy as np\n",
        "#pca1=np.cumsum(pca.explained_variance_ratio_)\n",
        "pca_cummulative=np.cumsum(pca.explained_variance_ratio_)\n",
        "cum_var_exp=np.cumsum(pca.explained_variance_)\n",
        "cum_var_exp\n"
      ],
      "execution_count": 0,
      "outputs": [
        {
          "output_type": "execute_result",
          "data": {
            "text/plain": [
              "array([ 179.0069301 ,  342.72467698,  484.51311607,  585.61349127,\n",
              "        655.12665687,  714.23518175,  766.11972086,  810.13482753,\n",
              "        850.44582282,  887.45762122,  915.9766624 ,  943.29783221,\n",
              "        965.19932035,  986.52367689, 1004.16039911, 1021.10726297,\n",
              "       1036.95865288, 1051.9631131 , 1064.19758627, 1075.0844456 ,\n",
              "       1085.77801185, 1095.36060964, 1104.58701224, 1113.27738096,\n",
              "       1121.64299286, 1128.80877247, 1135.72851128, 1141.92146636,\n",
              "       1147.80645758])"
            ]
          },
          "metadata": {
            "tags": []
          },
          "execution_count": 53
        }
      ]
    },
    {
      "cell_type": "code",
      "metadata": {
        "id": "fnTOfpXVC5y6",
        "colab_type": "code",
        "outputId": "97f3955c-5fbd-4dd2-9eb6-235cb9965d32",
        "colab": {
          "base_uri": "https://localhost:8080/",
          "height": 153
        }
      },
      "source": [
        "pca_cummulative"
      ],
      "execution_count": 0,
      "outputs": [
        {
          "output_type": "execute_result",
          "data": {
            "text/plain": [
              "array([0.12146235, 0.21757492, 0.30256529, 0.36773566, 0.4168858 ,\n",
              "       0.45873275, 0.49756611, 0.53080467, 0.56086669, 0.58974626,\n",
              "       0.61776579, 0.64358406, 0.6664009 , 0.68844968, 0.71007812,\n",
              "       0.72903664, 0.74676501, 0.76303676, 0.77902868, 0.79406514,\n",
              "       0.80749151, 0.8203244 , 0.8317812 , 0.84243121, 0.85242862,\n",
              "       0.86184222, 0.87034566, 0.87872494, 0.88660533, 0.89415604,\n",
              "       0.90149117, 0.90837809, 0.91492348, 0.92112914, 0.92713284,\n",
              "       0.93278601, 0.93797526, 0.94266929, 0.94722799, 0.95142302])"
            ]
          },
          "metadata": {
            "tags": []
          },
          "execution_count": 32
        }
      ]
    },
    {
      "cell_type": "code",
      "metadata": {
        "id": "IuYfQZhzDcpS",
        "colab_type": "code",
        "colab": {}
      },
      "source": [
        "lower_dimensional_data = pca.fit_transform(digits.data)\n",
        "approximation = pca.inverse_transform(lower_dimensional_data)"
      ],
      "execution_count": 0,
      "outputs": []
    },
    {
      "cell_type": "code",
      "metadata": {
        "id": "dxCQtxwcEKLV",
        "colab_type": "code",
        "outputId": "cbabee9c-0b5b-4c46-e623-1ebaf25bf3b0",
        "colab": {
          "base_uri": "https://localhost:8080/",
          "height": 238
        }
      },
      "source": [
        "lower_dimensional_data"
      ],
      "execution_count": 0,
      "outputs": [
        {
          "output_type": "execute_result",
          "data": {
            "text/plain": [
              "array([[ -1.25946645,  21.27488348,  -9.46305462, ...,   3.67072108,\n",
              "         -0.9436689 ,  -1.13250195],\n",
              "       [  7.9576113 , -20.76869896,   4.43950604, ...,   2.18261819,\n",
              "         -0.51022719,   2.31354911],\n",
              "       [  6.99192297,  -9.95598641,   2.95855808, ...,   4.22882114,\n",
              "          2.1576573 ,   0.8379578 ],\n",
              "       ...,\n",
              "       [ 10.8012837 ,  -6.96025223,   5.59955453, ...,  -3.56866194,\n",
              "          1.82444444,   3.53885886],\n",
              "       [ -4.87210009,  12.42395362, -10.17086635, ...,   3.25330054,\n",
              "          0.95484174,  -0.93895602],\n",
              "       [ -0.34438963,   6.36554919,  10.77370849, ...,  -3.01636722,\n",
              "          1.29752723,   2.58810313]])"
            ]
          },
          "metadata": {
            "tags": []
          },
          "execution_count": 35
        }
      ]
    },
    {
      "cell_type": "code",
      "metadata": {
        "id": "DPMvH9btERbp",
        "colab_type": "code",
        "outputId": "37fadd17-ef9f-43d0-a56a-63c5ef11a76d",
        "colab": {
          "base_uri": "https://localhost:8080/",
          "height": 238
        }
      },
      "source": [
        "approximation "
      ],
      "execution_count": 0,
      "outputs": [
        {
          "output_type": "execute_result",
          "data": {
            "text/plain": [
              "array([[ 4.18592165e-16,  1.33767782e-01,  5.63152277e+00, ...,\n",
              "         1.85964222e-01, -1.20577212e+00, -3.66920147e-01],\n",
              "       [-1.06138208e-16, -1.22739900e-01,  1.38809014e-01, ...,\n",
              "         8.02843002e+00,  1.26699313e+00,  9.88032910e-01],\n",
              "       [-6.46339140e-17,  2.57737337e-01,  5.62138359e-01, ...,\n",
              "         1.56032837e+01,  8.74160970e+00,  1.28370760e+00],\n",
              "       ...,\n",
              "       [-9.43354464e-17, -3.29326197e-01,  8.19751265e-01, ...,\n",
              "         5.30083425e+00, -7.52796422e-02, -3.42569422e-01],\n",
              "       [ 1.49406226e-16, -2.86793118e-01,  3.86722104e+00, ...,\n",
              "         1.10058818e+01,  1.13105112e+00,  6.21574304e-01],\n",
              "       [-1.20192377e-16,  4.85982909e-01,  8.39476464e+00, ...,\n",
              "         1.10743005e+01,  2.51424465e+00, -1.43283183e-01]])"
            ]
          },
          "metadata": {
            "tags": []
          },
          "execution_count": 36
        }
      ]
    },
    {
      "cell_type": "code",
      "metadata": {
        "id": "L9OkVDFRF_hf",
        "colab_type": "code",
        "outputId": "6ed3ea0a-dcdd-41d5-ed76-8eeb816485dd",
        "colab": {
          "base_uri": "https://localhost:8080/",
          "height": 34
        }
      },
      "source": [
        "approximation.shape"
      ],
      "execution_count": 0,
      "outputs": [
        {
          "output_type": "execute_result",
          "data": {
            "text/plain": [
              "(1797, 64)"
            ]
          },
          "metadata": {
            "tags": []
          },
          "execution_count": 41
        }
      ]
    },
    {
      "cell_type": "code",
      "metadata": {
        "id": "80fOgDtzEae_",
        "colab_type": "code",
        "outputId": "9e79891b-ce01-4168-8d80-71d829334beb",
        "colab": {
          "base_uri": "https://localhost:8080/",
          "height": 290
        }
      },
      "source": [
        "import matplotlib.pyplot as plt\n",
        "plt.figure(figsize=(8,4));\n",
        "\n",
        "# Original Image\n",
        "plt.subplot(1, 2, 1);\n",
        "plt.imshow(digits.data[1].reshape(8,8),\n",
        "              cmap = plt.cm.gray, interpolation='nearest',\n",
        "              clim=(0, 255));\n",
        "plt.xlabel('64 components', fontsize = 14)\n",
        "plt.title('Original Image', fontsize = 20);"
      ],
      "execution_count": 0,
      "outputs": [
        {
          "output_type": "display_data",
          "data": {
            "image/png": "[encoded data removed]",
            "text/plain": [
              "<Figure size 576x288 with 1 Axes>"
            ]
          },
          "metadata": {
            "tags": []
          }
        }
      ]
    },
    {
      "cell_type": "code",
      "metadata": {
        "id": "SL0D9Zo3E7WQ",
        "colab_type": "code",
        "outputId": "3e8303fa-e336-4dee-f119-abf42ed984e6",
        "colab": {
          "base_uri": "https://localhost:8080/",
          "height": 235
        }
      },
      "source": [
        "# 40 principal components\n",
        "plt.subplot(1, 2, 2);\n",
        "plt.imshow(approximation[1].reshape(8, 8),\n",
        "              cmap = plt.cm.gray, interpolation='nearest',\n",
        "              clim=(0, 255));\n",
        "plt.xlabel('40  components', fontsize = 11)\n",
        "plt.title('95% of Explained Variance', fontsize = 20);"
      ],
      "execution_count": 0,
      "outputs": [
        {
          "output_type": "display_data",
          "data": {
            "image/png": "[encoded data removed]",
            "text/plain": [
              "<Figure size 432x288 with 1 Axes>"
            ]
          },
          "metadata": {
            "tags": []
          }
        }
      ]
    },
    {
      "cell_type": "code",
      "metadata": {
        "id": "cVhBsDiLJY-2",
        "colab_type": "code",
        "outputId": "512e6ca6-ff0b-40c5-d59b-c8871c9dca9a",
        "colab": {
          "base_uri": "https://localhost:8080/",
          "height": 51
        }
      },
      "source": [
        "pca=PCA()\n",
        "pca"
      ],
      "execution_count": 0,
      "outputs": [
        {
          "output_type": "execute_result",
          "data": {
            "text/plain": [
              "PCA(copy=True, iterated_power='auto', n_components=None, random_state=None,\n",
              "    svd_solver='auto', tol=0.0, whiten=False)"
            ]
          },
          "metadata": {
            "tags": []
          },
          "execution_count": 55
        }
      ]
    },
    {
      "cell_type": "code",
      "metadata": {
        "id": "LGQS_B9HJiZi",
        "colab_type": "code",
        "outputId": "a02e9adc-b847-491d-f8ef-f40d9f7b0dcb",
        "colab": {
          "base_uri": "https://localhost:8080/",
          "height": 51
        }
      },
      "source": [
        "pca.fit(digits.data)"
      ],
      "execution_count": 0,
      "outputs": [
        {
          "output_type": "execute_result",
          "data": {
            "text/plain": [
              "PCA(copy=True, iterated_power='auto', n_components=None, random_state=None,\n",
              "    svd_solver='auto', tol=0.0, whiten=False)"
            ]
          },
          "metadata": {
            "tags": []
          },
          "execution_count": 56
        }
      ]
    },
    {
      "cell_type": "code",
      "metadata": {
        "id": "ZwZfN4PuJleM",
        "colab_type": "code",
        "outputId": "90ae011b-d6b4-47fb-9773-f0b8ed74dec1",
        "colab": {
          "base_uri": "https://localhost:8080/",
          "height": 34
        }
      },
      "source": [
        "pca.n_components_"
      ],
      "execution_count": 0,
      "outputs": [
        {
          "output_type": "execute_result",
          "data": {
            "text/plain": [
              "64"
            ]
          },
          "metadata": {
            "tags": []
          },
          "execution_count": 57
        }
      ]
    },
    {
      "cell_type": "code",
      "metadata": {
        "id": "yaAMSfA8GVYf",
        "colab_type": "code",
        "outputId": "d42e7336-3a34-4251-f2f2-ba9ac6dd87a9",
        "colab": {
          "base_uri": "https://localhost:8080/",
          "height": 34
        }
      },
      "source": [
        "tot = sum(pca.explained_variance_)\n",
        "tot"
      ],
      "execution_count": 0,
      "outputs": [
        {
          "output_type": "execute_result",
          "data": {
            "text/plain": [
              "1202.1477121607043"
            ]
          },
          "metadata": {
            "tags": []
          },
          "execution_count": 58
        }
      ]
    },
    {
      "cell_type": "code",
      "metadata": {
        "id": "4FxHI0ldGhCu",
        "colab_type": "code",
        "outputId": "e5074c27-1eaf-4782-e300-0c78e74b66ee",
        "colab": {
          "base_uri": "https://localhost:8080/",
          "height": 34
        }
      },
      "source": [
        "var_exp = [(i/tot)*100 for i in sorted(pca.explained_variance_, reverse=True)] \n",
        "print(var_exp[0:5])"
      ],
      "execution_count": 0,
      "outputs": [
        {
          "output_type": "stream",
          "text": [
            "[14.890593584063867, 13.618771239635475, 11.794593763975776, 8.409979421009192, 5.782414664005522]\n"
          ],
          "name": "stdout"
        }
      ]
    },
    {
      "cell_type": "code",
      "metadata": {
        "id": "LcyoQKQwJ8k9",
        "colab_type": "code",
        "outputId": "a7420c60-cfff-4462-af2b-ca906265c2ce",
        "colab": {
          "base_uri": "https://localhost:8080/",
          "height": 34
        }
      },
      "source": [
        "tot = sum(pca.explained_variance_)\n",
        "tot"
      ],
      "execution_count": 0,
      "outputs": [
        {
          "output_type": "execute_result",
          "data": {
            "text/plain": [
              "1202.1477121607043"
            ]
          },
          "metadata": {
            "tags": []
          },
          "execution_count": 60
        }
      ]
    },
    {
      "cell_type": "code",
      "metadata": {
        "id": "QhJ0Rm26J_g0",
        "colab_type": "code",
        "outputId": "b8a69c6b-6bce-4752-e540-2ad4e50760af",
        "colab": {
          "base_uri": "https://localhost:8080/",
          "height": 34
        }
      },
      "source": [
        "var_exp = [(i/tot)*100 for i in sorted(pca.explained_variance_, reverse=True)] \n",
        "print(var_exp[0:5])"
      ],
      "execution_count": 0,
      "outputs": [
        {
          "output_type": "stream",
          "text": [
            "[14.890593584063867, 13.618771239635475, 11.794593763975776, 8.409979421009192, 5.782414664005522]\n"
          ],
          "name": "stdout"
        }
      ]
    },
    {
      "cell_type": "code",
      "metadata": {
        "id": "ag_rIe29k2ZG",
        "colab_type": "code",
        "outputId": "07b52232-4752-4f58-f454-b38861e80911",
        "colab": {
          "base_uri": "https://localhost:8080/",
          "height": 164
        }
      },
      "source": [
        ""
      ],
      "execution_count": 0,
      "outputs": [
        {
          "output_type": "error",
          "ename": "NameError",
          "evalue": "ignored",
          "traceback": [
            "\u001b[0;31m---------------------------------------------------------------------------\u001b[0m",
            "\u001b[0;31mNameError\u001b[0m                                 Traceback (most recent call last)",
            "\u001b[0;32m<ipython-input-18-e9309369c1b7>\u001b[0m in \u001b[0;36m<module>\u001b[0;34m()\u001b[0m\n\u001b[0;32m----> 1\u001b[0;31m \u001b[0mvar_exp\u001b[0m\u001b[0;34m\u001b[0m\u001b[0;34m\u001b[0m\u001b[0m\n\u001b[0m",
            "\u001b[0;31mNameError\u001b[0m: name 'var_exp' is not defined"
          ]
        }
      ]
    },
    {
      "cell_type": "code",
      "metadata": {
        "id": "h9LG6uCkKIwy",
        "colab_type": "code",
        "outputId": "617aaa1f-d5de-4f45-96f1-84ccca59013b",
        "colab": {
          "base_uri": "https://localhost:8080/",
          "height": 289
        }
      },
      "source": [
        "# Cumulative explained variance\n",
        "cum_var_exp = np.cumsum(var_exp)\n",
        "cum_var_exp"
      ],
      "execution_count": 0,
      "outputs": [
        {
          "output_type": "execute_result",
          "data": {
            "text/plain": [
              "array([ 14.89059358,  28.50936482,  40.30395859,  48.71393801,\n",
              "        54.49635267,  59.41326299,  63.72925   ,  67.39062258,\n",
              "        70.74387068,  73.82267688,  76.19501773,  78.4677143 ,\n",
              "        80.28957761,  82.06343255,  83.53053364,  84.94024924,\n",
              "        86.25883844,  87.50697626,  88.52469422,  89.43031166,\n",
              "        90.31985012,  91.11697328,  91.88446653,  92.6073701 ,\n",
              "        93.30325895,  93.89934041,  94.4749551 ,  94.99011268,\n",
              "        95.47965246,  95.90854042,  96.28214647,  96.6354207 ,\n",
              "        96.97210468,  97.30013453,  97.60845542,  97.90223405,\n",
              "        98.15882265,  98.38656505,  98.60884297,  98.82027337,\n",
              "        99.01018243,  99.16883533,  99.31999527,  99.46057403,\n",
              "        99.57719632,  99.68468884,  99.78109415,  99.85855718,\n",
              "        99.91427833,  99.9547114 ,  99.97570304,  99.98395101,\n",
              "        99.98920251,  99.99425494,  99.99755456,  99.99879821,\n",
              "        99.99950304,  99.99980447,  99.9999107 ,  99.99996571,\n",
              "       100.        , 100.        , 100.        , 100.        ])"
            ]
          },
          "metadata": {
            "tags": []
          },
          "execution_count": 63
        }
      ]
    },
    {
      "cell_type": "code",
      "metadata": {
        "id": "8OEKfV97Gv7V",
        "colab_type": "code",
        "outputId": "75f905bc-b8e3-4e17-ca90-3b6888a17ba7",
        "colab": {
          "base_uri": "https://localhost:8080/",
          "height": 350
        }
      },
      "source": [
        "# PLOT OUT THE EXPLAINED VARIANCES SUPERIMPOSED \n",
        "plt.figure(figsize=(10, 5))\n",
        "plt.step(range(1, 65), cum_var_exp, where='mid',label='cumulative explained variance')\n",
        "plt.title('Cumulative Explained Variance as a Function of the Number of Components')\n",
        "plt.ylabel('Cumulative Explained variance')\n",
        "plt.xlabel('Principal components')\n",
        "plt.axhline(y = 95, color='k', linestyle='--', label = '95% Explained Variance')\n",
        "plt.axhline(y = 90, color='c', linestyle='--', label = '90% Explained Variance')\n",
        "plt.axhline(y = 85, color='r', linestyle='--', label = '85% Explained Variance')\n",
        "plt.legend(loc='best')\n",
        "plt.show()"
      ],
      "execution_count": 0,
      "outputs": [
        {
          "output_type": "display_data",
          "data": {
            "image/png": "[encoded data removed]",
            "text/plain": [
              "<Figure size 720x360 with 1 Axes>"
            ]
          },
          "metadata": {
            "tags": []
          }
        }
      ]
    },
    {
      "cell_type": "code",
      "metadata": {
        "id": "Q8iTJIibH8GW",
        "colab_type": "code",
        "colab": {}
      },
      "source": [
        "componentsVariance = [64, np.argmax(cum_var_exp > 99) + 1, np.argmax(cum_var_exp > 95) + 1, np.argmax(cum_var_exp > 90) + 1, np.argmax(cum_var_exp >= 85) + 1]"
      ],
      "execution_count": 0,
      "outputs": []
    },
    {
      "cell_type": "code",
      "metadata": {
        "id": "q4M0BWDqKug9",
        "colab_type": "code",
        "outputId": "8caf4fd8-15a7-46b7-83cc-bfd2d837e8ac",
        "colab": {
          "base_uri": "https://localhost:8080/",
          "height": 34
        }
      },
      "source": [
        "componentsVariance"
      ],
      "execution_count": 0,
      "outputs": [
        {
          "output_type": "execute_result",
          "data": {
            "text/plain": [
              "[64, 41, 29, 21, 17]"
            ]
          },
          "metadata": {
            "tags": []
          },
          "execution_count": 68
        }
      ]
    },
    {
      "cell_type": "code",
      "metadata": {
        "id": "Ly-QP8kzKwyg",
        "colab_type": "code",
        "colab": {}
      },
      "source": [
        "from sklearn.decomposition import PCA\n",
        "\n",
        "# This is an extremely inefficient function. Will get to why in a later tutorial\n",
        "def explainedVariance(percentage, images): \n",
        "    # percentage should be a decimal from 0 to 1 \n",
        "    pca = PCA(percentage)\n",
        "    pca.fit(images)\n",
        "    components = pca.transform(images)\n",
        "    approxOriginal = pca.inverse_transform(components)\n",
        "    return approxOriginal"
      ],
      "execution_count": 0,
      "outputs": []
    },
    {
      "cell_type": "code",
      "metadata": {
        "id": "8btHgwZoK4JI",
        "colab_type": "code",
        "outputId": "c0a9356e-c1e0-46fd-b07b-26d38799ffbc",
        "colab": {
          "base_uri": "https://localhost:8080/",
          "height": 274
        }
      },
      "source": [
        "plt.figure(figsize=(20,4));\n",
        "\n",
        "# Original Image (64 components)\n",
        "plt.subplot(1, 5, 1);\n",
        "plt.imshow(digits.data[5].reshape(8,8),\n",
        "              cmap = plt.cm.gray, interpolation='nearest',\n",
        "              clim=(0, 255));\n",
        "plt.xlabel('64 Components', fontsize = 12)\n",
        "plt.title('Original Image', fontsize = 14);\n",
        "\n",
        "# 41 principal components\n",
        "plt.subplot(1, 5, 2);\n",
        "plt.imshow(explainedVariance(.99, digits.data)[5].reshape(8, 8),\n",
        "              cmap = plt.cm.gray, interpolation='nearest',\n",
        "              clim=(0, 255));\n",
        "plt.xlabel('41 Components', fontsize = 12)\n",
        "plt.title('99% of Explained Variance', fontsize = 14);\n",
        "\n",
        "# 41 principal components\n",
        "plt.subplot(1, 5, 3);\n",
        "plt.imshow(explainedVariance(.95, digits.data)[5].reshape(8, 8),\n",
        "              cmap = plt.cm.gray, interpolation='nearest',\n",
        "              clim=(0, 255));\n",
        "plt.xlabel('29 Components', fontsize = 12)\n",
        "plt.title('95% of Explained Variance', fontsize = 14);\n",
        "# 87 principal components\n",
        "plt.subplot(1, 5, 4);\n",
        "plt.imshow(explainedVariance(.90, digits.data)[5].reshape(8, 8),\n",
        "              cmap = plt.cm.gray, interpolation='nearest',\n",
        "              clim=(0, 255));\n",
        "plt.xlabel('21 Components', fontsize = 12)\n",
        "plt.title('90% of Explained Variance', fontsize = 14);\n",
        "\n",
        "# 59 principal components\n",
        "plt.subplot(1, 5, 5);\n",
        "plt.imshow(explainedVariance(.85, digits.data)[5].reshape(8, 8),\n",
        "              cmap = plt.cm.gray, interpolation='nearest',\n",
        "              clim=(0, 255));\n",
        "plt.xlabel('17 Components', fontsize = 12)\n",
        "plt.title('85% of Explained Variance', fontsize = 14);\n"
      ],
      "execution_count": 0,
      "outputs": [
        {
          "output_type": "display_data",
          "data": {
            "image/png": "[encoded data removed]",
            "text/plain": [
              "<Figure size 1440x288 with 5 Axes>"
            ]
          },
          "metadata": {
            "tags": []
          }
        }
      ]
    },
    {
      "cell_type": "code",
      "metadata": {
        "id": "jD9r5mUBLs1K",
        "colab_type": "code",
        "outputId": "0da28bde-340a-4926-f025-ca2dbb466517",
        "colab": {
          "base_uri": "https://localhost:8080/",
          "height": 34
        }
      },
      "source": [
        "digits.target"
      ],
      "execution_count": 0,
      "outputs": [
        {
          "output_type": "execute_result",
          "data": {
            "text/plain": [
              "array([0, 1, 2, ..., 8, 9, 8])"
            ]
          },
          "metadata": {
            "tags": []
          },
          "execution_count": 73
        }
      ]
    }
  ]
}