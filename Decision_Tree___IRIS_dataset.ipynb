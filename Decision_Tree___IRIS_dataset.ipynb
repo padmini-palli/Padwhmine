{
  "nbformat": 4,
  "nbformat_minor": 0,
  "metadata": {
    "colab": {
      "name": "Decision_Tree__ IRIS dataset",
      "provenance": [],
      "authorship_tag": "ABX9TyNPw+JjWjp3y4p5BoQXjCAx"
    },
    "kernelspec": {
      "name": "python3",
      "display_name": "Python 3"
    }
  },
  "cells": [
    {
      "cell_type": "code",
      "metadata": {
        "id": "NP7-c3jQgUQe",
        "colab_type": "code",
        "outputId": "0f6bb369-800c-432a-afab-18eb98b642d1",
        "colab": {
          "base_uri": "https://localhost:8080/",
          "height": 71
        }
      },
      "source": [
        "from sklearn.datasets import load_iris\n",
        "from sklearn.tree import DecisionTreeClassifier\n",
        "from sklearn.model_selection import train_test_split\n",
        "from sklearn.metrics import confusion_matrix\n",
        "from sklearn.tree import export_graphviz\n",
        "from sklearn.externals.six import StringIO \n",
        "from IPython.display import Image \n",
        "from pydot import graph_from_dot_data\n",
        "import pandas as pd\n",
        "import numpy as np"
      ],
      "execution_count": 0,
      "outputs": [
        {
          "output_type": "stream",
          "text": [
            "/usr/local/lib/python3.6/dist-packages/sklearn/externals/six.py:31: FutureWarning: The module is deprecated in version 0.21 and will be removed in version 0.23 since we've dropped support for Python 2.7. Please rely on the official version of six (https://pypi.org/project/six/).\n",
            "  \"(https://pypi.org/project/six/).\", FutureWarning)\n"
          ],
          "name": "stderr"
        }
      ]
    },
    {
      "cell_type": "code",
      "metadata": {
        "id": "WbNxSC_LuBpW",
        "colab_type": "code",
        "colab": {}
      },
      "source": [
        "#iris = load_iris()\n",
        "iris_url = \"https://archive.ics.uci.edu/ml/machine-learning-databases/iris/iris.data\"\n",
        "import pandas as pd\n",
        "iris_df1= pd.read_csv(iris_url)\n",
        "iris_df= pd.read_csv(iris_url, names=['sepal length','sepal width','petal length','petal width','target'])\n",
        "X = pd.DataFrame(iris.data, columns=iris.feature_names)\n",
        "y = iris_df.loc[:,['target']].values"
      ],
      "execution_count": 0,
      "outputs": []
    },
    {
      "cell_type": "code",
      "metadata": {
        "id": "7OFUVdxWuLNU",
        "colab_type": "code",
        "outputId": "07124b22-a882-4797-821c-6fbfde303b1d",
        "colab": {
          "base_uri": "https://localhost:8080/",
          "height": 419
        }
      },
      "source": [
        "X"
      ],
      "execution_count": 0,
      "outputs": [
        {
          "output_type": "execute_result",
          "data": {
            "text/html": [
              "<div>\n",
              "<style scoped>\n",
              "    .dataframe tbody tr th:only-of-type {\n",
              "        vertical-align: middle;\n",
              "    }\n",
              "\n",
              "    .dataframe tbody tr th {\n",
              "        vertical-align: top;\n",
              "    }\n",
              "\n",
              "    .dataframe thead th {\n",
              "        text-align: right;\n",
              "    }\n",
              "</style>\n",
              "<table border=\"1\" class=\"dataframe\">\n",
              "  <thead>\n",
              "    <tr style=\"text-align: right;\">\n",
              "      <th></th>\n",
              "      <th>sepal length (cm)</th>\n",
              "      <th>sepal width (cm)</th>\n",
              "      <th>petal length (cm)</th>\n",
              "      <th>petal width (cm)</th>\n",
              "    </tr>\n",
              "  </thead>\n",
              "  <tbody>\n",
              "    <tr>\n",
              "      <th>0</th>\n",
              "      <td>5.1</td>\n",
              "      <td>3.5</td>\n",
              "      <td>1.4</td>\n",
              "      <td>0.2</td>\n",
              "    </tr>\n",
              "    <tr>\n",
              "      <th>1</th>\n",
              "      <td>4.9</td>\n",
              "      <td>3.0</td>\n",
              "      <td>1.4</td>\n",
              "      <td>0.2</td>\n",
              "    </tr>\n",
              "    <tr>\n",
              "      <th>2</th>\n",
              "      <td>4.7</td>\n",
              "      <td>3.2</td>\n",
              "      <td>1.3</td>\n",
              "      <td>0.2</td>\n",
              "    </tr>\n",
              "    <tr>\n",
              "      <th>3</th>\n",
              "      <td>4.6</td>\n",
              "      <td>3.1</td>\n",
              "      <td>1.5</td>\n",
              "      <td>0.2</td>\n",
              "    </tr>\n",
              "    <tr>\n",
              "      <th>4</th>\n",
              "      <td>5.0</td>\n",
              "      <td>3.6</td>\n",
              "      <td>1.4</td>\n",
              "      <td>0.2</td>\n",
              "    </tr>\n",
              "    <tr>\n",
              "      <th>...</th>\n",
              "      <td>...</td>\n",
              "      <td>...</td>\n",
              "      <td>...</td>\n",
              "      <td>...</td>\n",
              "    </tr>\n",
              "    <tr>\n",
              "      <th>145</th>\n",
              "      <td>6.7</td>\n",
              "      <td>3.0</td>\n",
              "      <td>5.2</td>\n",
              "      <td>2.3</td>\n",
              "    </tr>\n",
              "    <tr>\n",
              "      <th>146</th>\n",
              "      <td>6.3</td>\n",
              "      <td>2.5</td>\n",
              "      <td>5.0</td>\n",
              "      <td>1.9</td>\n",
              "    </tr>\n",
              "    <tr>\n",
              "      <th>147</th>\n",
              "      <td>6.5</td>\n",
              "      <td>3.0</td>\n",
              "      <td>5.2</td>\n",
              "      <td>2.0</td>\n",
              "    </tr>\n",
              "    <tr>\n",
              "      <th>148</th>\n",
              "      <td>6.2</td>\n",
              "      <td>3.4</td>\n",
              "      <td>5.4</td>\n",
              "      <td>2.3</td>\n",
              "    </tr>\n",
              "    <tr>\n",
              "      <th>149</th>\n",
              "      <td>5.9</td>\n",
              "      <td>3.0</td>\n",
              "      <td>5.1</td>\n",
              "      <td>1.8</td>\n",
              "    </tr>\n",
              "  </tbody>\n",
              "</table>\n",
              "<p>150 rows × 4 columns</p>\n",
              "</div>"
            ],
            "text/plain": [
              "     sepal length (cm)  sepal width (cm)  petal length (cm)  petal width (cm)\n",
              "0                  5.1               3.5                1.4               0.2\n",
              "1                  4.9               3.0                1.4               0.2\n",
              "2                  4.7               3.2                1.3               0.2\n",
              "3                  4.6               3.1                1.5               0.2\n",
              "4                  5.0               3.6                1.4               0.2\n",
              "..                 ...               ...                ...               ...\n",
              "145                6.7               3.0                5.2               2.3\n",
              "146                6.3               2.5                5.0               1.9\n",
              "147                6.5               3.0                5.2               2.0\n",
              "148                6.2               3.4                5.4               2.3\n",
              "149                5.9               3.0                5.1               1.8\n",
              "\n",
              "[150 rows x 4 columns]"
            ]
          },
          "metadata": {
            "tags": []
          },
          "execution_count": 4
        }
      ]
    },
    {
      "cell_type": "code",
      "metadata": {
        "id": "wymqptmbzEt5",
        "colab_type": "code",
        "outputId": "9333496b-35ff-43a4-adaa-24b607b4cf6c",
        "colab": {
          "base_uri": "https://localhost:8080/",
          "height": 1000
        }
      },
      "source": [
        "y"
      ],
      "execution_count": 0,
      "outputs": [
        {
          "output_type": "execute_result",
          "data": {
            "text/plain": [
              "array([['Iris-setosa'],\n",
              "       ['Iris-setosa'],\n",
              "       ['Iris-setosa'],\n",
              "       ['Iris-setosa'],\n",
              "       ['Iris-setosa'],\n",
              "       ['Iris-setosa'],\n",
              "       ['Iris-setosa'],\n",
              "       ['Iris-setosa'],\n",
              "       ['Iris-setosa'],\n",
              "       ['Iris-setosa'],\n",
              "       ['Iris-setosa'],\n",
              "       ['Iris-setosa'],\n",
              "       ['Iris-setosa'],\n",
              "       ['Iris-setosa'],\n",
              "       ['Iris-setosa'],\n",
              "       ['Iris-setosa'],\n",
              "       ['Iris-setosa'],\n",
              "       ['Iris-setosa'],\n",
              "       ['Iris-setosa'],\n",
              "       ['Iris-setosa'],\n",
              "       ['Iris-setosa'],\n",
              "       ['Iris-setosa'],\n",
              "       ['Iris-setosa'],\n",
              "       ['Iris-setosa'],\n",
              "       ['Iris-setosa'],\n",
              "       ['Iris-setosa'],\n",
              "       ['Iris-setosa'],\n",
              "       ['Iris-setosa'],\n",
              "       ['Iris-setosa'],\n",
              "       ['Iris-setosa'],\n",
              "       ['Iris-setosa'],\n",
              "       ['Iris-setosa'],\n",
              "       ['Iris-setosa'],\n",
              "       ['Iris-setosa'],\n",
              "       ['Iris-setosa'],\n",
              "       ['Iris-setosa'],\n",
              "       ['Iris-setosa'],\n",
              "       ['Iris-setosa'],\n",
              "       ['Iris-setosa'],\n",
              "       ['Iris-setosa'],\n",
              "       ['Iris-setosa'],\n",
              "       ['Iris-setosa'],\n",
              "       ['Iris-setosa'],\n",
              "       ['Iris-setosa'],\n",
              "       ['Iris-setosa'],\n",
              "       ['Iris-setosa'],\n",
              "       ['Iris-setosa'],\n",
              "       ['Iris-setosa'],\n",
              "       ['Iris-setosa'],\n",
              "       ['Iris-setosa'],\n",
              "       ['Iris-versicolor'],\n",
              "       ['Iris-versicolor'],\n",
              "       ['Iris-versicolor'],\n",
              "       ['Iris-versicolor'],\n",
              "       ['Iris-versicolor'],\n",
              "       ['Iris-versicolor'],\n",
              "       ['Iris-versicolor'],\n",
              "       ['Iris-versicolor'],\n",
              "       ['Iris-versicolor'],\n",
              "       ['Iris-versicolor'],\n",
              "       ['Iris-versicolor'],\n",
              "       ['Iris-versicolor'],\n",
              "       ['Iris-versicolor'],\n",
              "       ['Iris-versicolor'],\n",
              "       ['Iris-versicolor'],\n",
              "       ['Iris-versicolor'],\n",
              "       ['Iris-versicolor'],\n",
              "       ['Iris-versicolor'],\n",
              "       ['Iris-versicolor'],\n",
              "       ['Iris-versicolor'],\n",
              "       ['Iris-versicolor'],\n",
              "       ['Iris-versicolor'],\n",
              "       ['Iris-versicolor'],\n",
              "       ['Iris-versicolor'],\n",
              "       ['Iris-versicolor'],\n",
              "       ['Iris-versicolor'],\n",
              "       ['Iris-versicolor'],\n",
              "       ['Iris-versicolor'],\n",
              "       ['Iris-versicolor'],\n",
              "       ['Iris-versicolor'],\n",
              "       ['Iris-versicolor'],\n",
              "       ['Iris-versicolor'],\n",
              "       ['Iris-versicolor'],\n",
              "       ['Iris-versicolor'],\n",
              "       ['Iris-versicolor'],\n",
              "       ['Iris-versicolor'],\n",
              "       ['Iris-versicolor'],\n",
              "       ['Iris-versicolor'],\n",
              "       ['Iris-versicolor'],\n",
              "       ['Iris-versicolor'],\n",
              "       ['Iris-versicolor'],\n",
              "       ['Iris-versicolor'],\n",
              "       ['Iris-versicolor'],\n",
              "       ['Iris-versicolor'],\n",
              "       ['Iris-versicolor'],\n",
              "       ['Iris-versicolor'],\n",
              "       ['Iris-versicolor'],\n",
              "       ['Iris-versicolor'],\n",
              "       ['Iris-versicolor'],\n",
              "       ['Iris-versicolor'],\n",
              "       ['Iris-virginica'],\n",
              "       ['Iris-virginica'],\n",
              "       ['Iris-virginica'],\n",
              "       ['Iris-virginica'],\n",
              "       ['Iris-virginica'],\n",
              "       ['Iris-virginica'],\n",
              "       ['Iris-virginica'],\n",
              "       ['Iris-virginica'],\n",
              "       ['Iris-virginica'],\n",
              "       ['Iris-virginica'],\n",
              "       ['Iris-virginica'],\n",
              "       ['Iris-virginica'],\n",
              "       ['Iris-virginica'],\n",
              "       ['Iris-virginica'],\n",
              "       ['Iris-virginica'],\n",
              "       ['Iris-virginica'],\n",
              "       ['Iris-virginica'],\n",
              "       ['Iris-virginica'],\n",
              "       ['Iris-virginica'],\n",
              "       ['Iris-virginica'],\n",
              "       ['Iris-virginica'],\n",
              "       ['Iris-virginica'],\n",
              "       ['Iris-virginica'],\n",
              "       ['Iris-virginica'],\n",
              "       ['Iris-virginica'],\n",
              "       ['Iris-virginica'],\n",
              "       ['Iris-virginica'],\n",
              "       ['Iris-virginica'],\n",
              "       ['Iris-virginica'],\n",
              "       ['Iris-virginica'],\n",
              "       ['Iris-virginica'],\n",
              "       ['Iris-virginica'],\n",
              "       ['Iris-virginica'],\n",
              "       ['Iris-virginica'],\n",
              "       ['Iris-virginica'],\n",
              "       ['Iris-virginica'],\n",
              "       ['Iris-virginica'],\n",
              "       ['Iris-virginica'],\n",
              "       ['Iris-virginica'],\n",
              "       ['Iris-virginica'],\n",
              "       ['Iris-virginica'],\n",
              "       ['Iris-virginica'],\n",
              "       ['Iris-virginica'],\n",
              "       ['Iris-virginica'],\n",
              "       ['Iris-virginica'],\n",
              "       ['Iris-virginica'],\n",
              "       ['Iris-virginica'],\n",
              "       ['Iris-virginica'],\n",
              "       ['Iris-virginica'],\n",
              "       ['Iris-virginica']], dtype=object)"
            ]
          },
          "metadata": {
            "tags": []
          },
          "execution_count": 14
        }
      ]
    },
    {
      "cell_type": "code",
      "metadata": {
        "id": "fPtt4ue4uh_B",
        "colab_type": "code",
        "colab": {}
      },
      "source": [
        "X_train, X_test, y_train, y_test = train_test_split(X, y, random_state=1)"
      ],
      "execution_count": 0,
      "outputs": []
    },
    {
      "cell_type": "code",
      "metadata": {
        "id": "61h0bTPJuhAl",
        "colab_type": "code",
        "outputId": "cbf2c73c-9c2e-4d1c-a053-06c73a217e08",
        "colab": {
          "base_uri": "https://localhost:8080/",
          "height": 119
        }
      },
      "source": [
        "dt = DecisionTreeClassifier()\n",
        "dt.fit(X_train, y_train)"
      ],
      "execution_count": 0,
      "outputs": [
        {
          "output_type": "execute_result",
          "data": {
            "text/plain": [
              "DecisionTreeClassifier(ccp_alpha=0.0, class_weight=None, criterion='gini',\n",
              "                       max_depth=None, max_features=None, max_leaf_nodes=None,\n",
              "                       min_impurity_decrease=0.0, min_impurity_split=None,\n",
              "                       min_samples_leaf=1, min_samples_split=2,\n",
              "                       min_weight_fraction_leaf=0.0, presort='deprecated',\n",
              "                       random_state=None, splitter='best')"
            ]
          },
          "metadata": {
            "tags": []
          },
          "execution_count": 16
        }
      ]
    },
    {
      "cell_type": "code",
      "metadata": {
        "id": "d5erTIrfzY5x",
        "colab_type": "code",
        "outputId": "a57e2706-0075-447b-e39f-1f8abe644f09",
        "colab": {
          "base_uri": "https://localhost:8080/",
          "height": 792
        }
      },
      "source": [
        "dot_data = StringIO()\n",
        "export_graphviz(dt, out_file=dot_data, feature_names=iris.feature_names)\n",
        "(graph, ) = graph_from_dot_data(dot_data.getvalue())\n",
        "Image(graph.create_png())\n"
      ],
      "execution_count": 0,
      "outputs": [
        {
          "output_type": "execute_result",
          "data": {
            "image/png": "[encoded data removed]",
            "text/plain": [
              "<IPython.core.display.Image object>"
            ]
          },
          "metadata": {
            "tags": []
          },
          "execution_count": 17
        }
      ]
    },
    {
      "cell_type": "code",
      "metadata": {
        "id": "pMWs-1VMIR7A",
        "colab_type": "code",
        "outputId": "a3721a98-1a81-45cf-f1ee-14a90ef37695",
        "colab": {
          "base_uri": "https://localhost:8080/",
          "height": 916
        }
      },
      "source": [
        "## including coloring nodes by their class (\n",
        "    import graphviz\n",
        "dot_data = tree.export_graphviz(dt, out_file=None, \n",
        "                     feature_names=iris.feature_names,  \n",
        "                     class_names=iris.target_names,  \n",
        "                     filled=True, rounded=True,  \n",
        "                     special_characters=True)  \n",
        "graph = graphviz.Source(dot_data)  \n",
        "graph \n"
      ],
      "execution_count": 0,
      "outputs": [
        {
          "output_type": "execute_result",
          "data": {
            "text/plain": [
              "<graphviz.files.Source at 0x7f696fe8e7f0>"
            ],
            "image/svg+xml": "<?xml version=\"1.0\" encoding=\"UTF-8\" standalone=\"no\"?>\n<!DOCTYPE svg PUBLIC \"-//W3C//DTD SVG 1.1//EN\"\n \"http://www.w3.org/Graphics/SVG/1.1/DTD/svg11.dtd\">\n<!-- Generated by graphviz version 2.40.1 (20161225.0304)\n -->\n<!-- Title: Tree Pages: 1 -->\n<svg width=\"634pt\" height=\"671pt\"\n viewBox=\"0.00 0.00 633.50 671.00\" xmlns=\"http://www.w3.org/2000/svg\" xmlns:xlink=\"http://www.w3.org/1999/xlink\">\n<g id=\"graph0\" class=\"graph\" transform=\"scale(1 1) rotate(0) translate(4 667)\">\n<title>Tree</title>\n<polygon fill=\"#ffffff\" stroke=\"transparent\" points=\"-4,4 -4,-667 629.5,-667 629.5,4 -4,4\"/>\n<!-- 0 -->\n<g id=\"node1\" class=\"node\">\n<title>0</title>\n<path fill=\"#f8f4fe\" stroke=\"#000000\" d=\"M299.5,-663C299.5,-663 170.5,-663 170.5,-663 164.5,-663 158.5,-657 158.5,-651 158.5,-651 158.5,-592 158.5,-592 158.5,-586 164.5,-580 170.5,-580 170.5,-580 299.5,-580 299.5,-580 305.5,-580 311.5,-586 311.5,-592 311.5,-592 311.5,-651 311.5,-651 311.5,-657 305.5,-663 299.5,-663\"/>\n<text text-anchor=\"start\" x=\"166.5\" y=\"-647.8\" font-family=\"Helvetica,sans-Serif\" font-size=\"14.00\" fill=\"#000000\">petal width (cm) ≤ 0.8</text>\n<text text-anchor=\"start\" x=\"197\" y=\"-632.8\" font-family=\"Helvetica,sans-Serif\" font-size=\"14.00\" fill=\"#000000\">gini = 0.665</text>\n<text text-anchor=\"start\" x=\"187\" y=\"-617.8\" font-family=\"Helvetica,sans-Serif\" font-size=\"14.00\" fill=\"#000000\">samples = 112</text>\n<text text-anchor=\"start\" x=\"173\" y=\"-602.8\" font-family=\"Helvetica,sans-Serif\" font-size=\"14.00\" fill=\"#000000\">value = [37, 34, 41]</text>\n<text text-anchor=\"start\" x=\"183.5\" y=\"-587.8\" font-family=\"Helvetica,sans-Serif\" font-size=\"14.00\" fill=\"#000000\">class = virginica</text>\n</g>\n<!-- 1 -->\n<g id=\"node2\" class=\"node\">\n<title>1</title>\n<path fill=\"#e58139\" stroke=\"#000000\" d=\"M204.5,-536.5C204.5,-536.5 105.5,-536.5 105.5,-536.5 99.5,-536.5 93.5,-530.5 93.5,-524.5 93.5,-524.5 93.5,-480.5 93.5,-480.5 93.5,-474.5 99.5,-468.5 105.5,-468.5 105.5,-468.5 204.5,-468.5 204.5,-468.5 210.5,-468.5 216.5,-474.5 216.5,-480.5 216.5,-480.5 216.5,-524.5 216.5,-524.5 216.5,-530.5 210.5,-536.5 204.5,-536.5\"/>\n<text text-anchor=\"start\" x=\"125.5\" y=\"-521.3\" font-family=\"Helvetica,sans-Serif\" font-size=\"14.00\" fill=\"#000000\">gini = 0.0</text>\n<text text-anchor=\"start\" x=\"111\" y=\"-506.3\" font-family=\"Helvetica,sans-Serif\" font-size=\"14.00\" fill=\"#000000\">samples = 37</text>\n<text text-anchor=\"start\" x=\"101.5\" y=\"-491.3\" font-family=\"Helvetica,sans-Serif\" font-size=\"14.00\" fill=\"#000000\">value = [37, 0, 0]</text>\n<text text-anchor=\"start\" x=\"108\" y=\"-476.3\" font-family=\"Helvetica,sans-Serif\" font-size=\"14.00\" fill=\"#000000\">class = setosa</text>\n</g>\n<!-- 0&#45;&gt;1 -->\n<g id=\"edge1\" class=\"edge\">\n<title>0&#45;&gt;1</title>\n<path fill=\"none\" stroke=\"#000000\" d=\"M207.0199,-579.8796C199.4797,-568.6636 191.3113,-556.5131 183.7309,-545.2372\"/>\n<polygon fill=\"#000000\" stroke=\"#000000\" points=\"186.5527,-543.1612 178.0689,-536.8149 180.7434,-547.0667 186.5527,-543.1612\"/>\n<text text-anchor=\"middle\" x=\"173.2608\" y=\"-557.6482\" font-family=\"Helvetica,sans-Serif\" font-size=\"14.00\" fill=\"#000000\">True</text>\n</g>\n<!-- 2 -->\n<g id=\"node3\" class=\"node\">\n<title>2</title>\n<path fill=\"#e9ddfb\" stroke=\"#000000\" d=\"M383.5,-544C383.5,-544 246.5,-544 246.5,-544 240.5,-544 234.5,-538 234.5,-532 234.5,-532 234.5,-473 234.5,-473 234.5,-467 240.5,-461 246.5,-461 246.5,-461 383.5,-461 383.5,-461 389.5,-461 395.5,-467 395.5,-473 395.5,-473 395.5,-532 395.5,-532 395.5,-538 389.5,-544 383.5,-544\"/>\n<text text-anchor=\"start\" x=\"242.5\" y=\"-528.8\" font-family=\"Helvetica,sans-Serif\" font-size=\"14.00\" fill=\"#000000\">petal width (cm) ≤ 1.65</text>\n<text text-anchor=\"start\" x=\"277\" y=\"-513.8\" font-family=\"Helvetica,sans-Serif\" font-size=\"14.00\" fill=\"#000000\">gini = 0.496</text>\n<text text-anchor=\"start\" x=\"271\" y=\"-498.8\" font-family=\"Helvetica,sans-Serif\" font-size=\"14.00\" fill=\"#000000\">samples = 75</text>\n<text text-anchor=\"start\" x=\"257.5\" y=\"-483.8\" font-family=\"Helvetica,sans-Serif\" font-size=\"14.00\" fill=\"#000000\">value = [0, 34, 41]</text>\n<text text-anchor=\"start\" x=\"263.5\" y=\"-468.8\" font-family=\"Helvetica,sans-Serif\" font-size=\"14.00\" fill=\"#000000\">class = virginica</text>\n</g>\n<!-- 0&#45;&gt;2 -->\n<g id=\"edge2\" class=\"edge\">\n<title>0&#45;&gt;2</title>\n<path fill=\"none\" stroke=\"#000000\" d=\"M262.9801,-579.8796C268.8531,-571.1434 275.1073,-561.8404 281.1679,-552.8253\"/>\n<polygon fill=\"#000000\" stroke=\"#000000\" points=\"284.2259,-554.5498 286.9005,-544.2981 278.4166,-550.6444 284.2259,-554.5498\"/>\n<text text-anchor=\"middle\" x=\"291.7085\" y=\"-565.1314\" font-family=\"Helvetica,sans-Serif\" font-size=\"14.00\" fill=\"#000000\">False</text>\n</g>\n<!-- 3 -->\n<g id=\"node4\" class=\"node\">\n<title>3</title>\n<path fill=\"#51e890\" stroke=\"#000000\" d=\"M294.5,-425C294.5,-425 151.5,-425 151.5,-425 145.5,-425 139.5,-419 139.5,-413 139.5,-413 139.5,-354 139.5,-354 139.5,-348 145.5,-342 151.5,-342 151.5,-342 294.5,-342 294.5,-342 300.5,-342 306.5,-348 306.5,-354 306.5,-354 306.5,-413 306.5,-413 306.5,-419 300.5,-425 294.5,-425\"/>\n<text text-anchor=\"start\" x=\"147.5\" y=\"-409.8\" font-family=\"Helvetica,sans-Serif\" font-size=\"14.00\" fill=\"#000000\">petal length (cm) ≤ 4.95</text>\n<text text-anchor=\"start\" x=\"185\" y=\"-394.8\" font-family=\"Helvetica,sans-Serif\" font-size=\"14.00\" fill=\"#000000\">gini = 0.193</text>\n<text text-anchor=\"start\" x=\"179\" y=\"-379.8\" font-family=\"Helvetica,sans-Serif\" font-size=\"14.00\" fill=\"#000000\">samples = 37</text>\n<text text-anchor=\"start\" x=\"169.5\" y=\"-364.8\" font-family=\"Helvetica,sans-Serif\" font-size=\"14.00\" fill=\"#000000\">value = [0, 33, 4]</text>\n<text text-anchor=\"start\" x=\"167\" y=\"-349.8\" font-family=\"Helvetica,sans-Serif\" font-size=\"14.00\" fill=\"#000000\">class = versicolor</text>\n</g>\n<!-- 2&#45;&gt;3 -->\n<g id=\"edge3\" class=\"edge\">\n<title>2&#45;&gt;3</title>\n<path fill=\"none\" stroke=\"#000000\" d=\"M282.8229,-460.8796C275.9296,-451.9633 268.5798,-442.4565 261.4761,-433.268\"/>\n<polygon fill=\"#000000\" stroke=\"#000000\" points=\"264.1999,-431.0687 255.3145,-425.2981 258.6619,-435.3502 264.1999,-431.0687\"/>\n</g>\n<!-- 10 -->\n<g id=\"node11\" class=\"node\">\n<title>10</title>\n<path fill=\"#843ee6\" stroke=\"#000000\" d=\"M479.5,-425C479.5,-425 336.5,-425 336.5,-425 330.5,-425 324.5,-419 324.5,-413 324.5,-413 324.5,-354 324.5,-354 324.5,-348 330.5,-342 336.5,-342 336.5,-342 479.5,-342 479.5,-342 485.5,-342 491.5,-348 491.5,-354 491.5,-354 491.5,-413 491.5,-413 491.5,-419 485.5,-425 479.5,-425\"/>\n<text text-anchor=\"start\" x=\"332.5\" y=\"-409.8\" font-family=\"Helvetica,sans-Serif\" font-size=\"14.00\" fill=\"#000000\">petal length (cm) ≤ 4.85</text>\n<text text-anchor=\"start\" x=\"370\" y=\"-394.8\" font-family=\"Helvetica,sans-Serif\" font-size=\"14.00\" fill=\"#000000\">gini = 0.051</text>\n<text text-anchor=\"start\" x=\"364\" y=\"-379.8\" font-family=\"Helvetica,sans-Serif\" font-size=\"14.00\" fill=\"#000000\">samples = 38</text>\n<text text-anchor=\"start\" x=\"354.5\" y=\"-364.8\" font-family=\"Helvetica,sans-Serif\" font-size=\"14.00\" fill=\"#000000\">value = [0, 1, 37]</text>\n<text text-anchor=\"start\" x=\"356.5\" y=\"-349.8\" font-family=\"Helvetica,sans-Serif\" font-size=\"14.00\" fill=\"#000000\">class = virginica</text>\n</g>\n<!-- 2&#45;&gt;10 -->\n<g id=\"edge10\" class=\"edge\">\n<title>2&#45;&gt;10</title>\n<path fill=\"none\" stroke=\"#000000\" d=\"M347.5269,-460.8796C354.4951,-451.9633 361.9247,-442.4565 369.1056,-433.268\"/>\n<polygon fill=\"#000000\" stroke=\"#000000\" points=\"371.9343,-435.3326 375.3343,-425.2981 366.4188,-431.0221 371.9343,-435.3326\"/>\n</g>\n<!-- 4 -->\n<g id=\"node5\" class=\"node\">\n<title>4</title>\n<path fill=\"#39e581\" stroke=\"#000000\" d=\"M116,-298.5C116,-298.5 12,-298.5 12,-298.5 6,-298.5 0,-292.5 0,-286.5 0,-286.5 0,-242.5 0,-242.5 0,-236.5 6,-230.5 12,-230.5 12,-230.5 116,-230.5 116,-230.5 122,-230.5 128,-236.5 128,-242.5 128,-242.5 128,-286.5 128,-286.5 128,-292.5 122,-298.5 116,-298.5\"/>\n<text text-anchor=\"start\" x=\"34.5\" y=\"-283.3\" font-family=\"Helvetica,sans-Serif\" font-size=\"14.00\" fill=\"#000000\">gini = 0.0</text>\n<text text-anchor=\"start\" x=\"20\" y=\"-268.3\" font-family=\"Helvetica,sans-Serif\" font-size=\"14.00\" fill=\"#000000\">samples = 32</text>\n<text text-anchor=\"start\" x=\"10.5\" y=\"-253.3\" font-family=\"Helvetica,sans-Serif\" font-size=\"14.00\" fill=\"#000000\">value = [0, 32, 0]</text>\n<text text-anchor=\"start\" x=\"8\" y=\"-238.3\" font-family=\"Helvetica,sans-Serif\" font-size=\"14.00\" fill=\"#000000\">class = versicolor</text>\n</g>\n<!-- 3&#45;&gt;4 -->\n<g id=\"edge4\" class=\"edge\">\n<title>3&#45;&gt;4</title>\n<path fill=\"none\" stroke=\"#000000\" d=\"M167.3895,-341.8796C151.2987,-329.8368 133.7685,-316.7167 117.7909,-304.7586\"/>\n<polygon fill=\"#000000\" stroke=\"#000000\" points=\"119.6962,-301.8129 109.593,-298.623 115.5018,-307.4171 119.6962,-301.8129\"/>\n</g>\n<!-- 5 -->\n<g id=\"node6\" class=\"node\">\n<title>5</title>\n<path fill=\"#a06aec\" stroke=\"#000000\" d=\"M295.5,-306C295.5,-306 158.5,-306 158.5,-306 152.5,-306 146.5,-300 146.5,-294 146.5,-294 146.5,-235 146.5,-235 146.5,-229 152.5,-223 158.5,-223 158.5,-223 295.5,-223 295.5,-223 301.5,-223 307.5,-229 307.5,-235 307.5,-235 307.5,-294 307.5,-294 307.5,-300 301.5,-306 295.5,-306\"/>\n<text text-anchor=\"start\" x=\"154.5\" y=\"-290.8\" font-family=\"Helvetica,sans-Serif\" font-size=\"14.00\" fill=\"#000000\">petal width (cm) ≤ 1.55</text>\n<text text-anchor=\"start\" x=\"193.5\" y=\"-275.8\" font-family=\"Helvetica,sans-Serif\" font-size=\"14.00\" fill=\"#000000\">gini = 0.32</text>\n<text text-anchor=\"start\" x=\"187.5\" y=\"-260.8\" font-family=\"Helvetica,sans-Serif\" font-size=\"14.00\" fill=\"#000000\">samples = 5</text>\n<text text-anchor=\"start\" x=\"177.5\" y=\"-245.8\" font-family=\"Helvetica,sans-Serif\" font-size=\"14.00\" fill=\"#000000\">value = [0, 1, 4]</text>\n<text text-anchor=\"start\" x=\"175.5\" y=\"-230.8\" font-family=\"Helvetica,sans-Serif\" font-size=\"14.00\" fill=\"#000000\">class = virginica</text>\n</g>\n<!-- 3&#45;&gt;5 -->\n<g id=\"edge5\" class=\"edge\">\n<title>3&#45;&gt;5</title>\n<path fill=\"none\" stroke=\"#000000\" d=\"M224.399,-341.8796C224.6745,-333.6838 224.9668,-324.9891 225.2521,-316.5013\"/>\n<polygon fill=\"#000000\" stroke=\"#000000\" points=\"228.757,-316.41 225.595,-306.2981 221.761,-316.1748 228.757,-316.41\"/>\n</g>\n<!-- 6 -->\n<g id=\"node7\" class=\"node\">\n<title>6</title>\n<path fill=\"#8139e5\" stroke=\"#000000\" d=\"M117.5,-179.5C117.5,-179.5 22.5,-179.5 22.5,-179.5 16.5,-179.5 10.5,-173.5 10.5,-167.5 10.5,-167.5 10.5,-123.5 10.5,-123.5 10.5,-117.5 16.5,-111.5 22.5,-111.5 22.5,-111.5 117.5,-111.5 117.5,-111.5 123.5,-111.5 129.5,-117.5 129.5,-123.5 129.5,-123.5 129.5,-167.5 129.5,-167.5 129.5,-173.5 123.5,-179.5 117.5,-179.5\"/>\n<text text-anchor=\"start\" x=\"40.5\" y=\"-164.3\" font-family=\"Helvetica,sans-Serif\" font-size=\"14.00\" fill=\"#000000\">gini = 0.0</text>\n<text text-anchor=\"start\" x=\"30.5\" y=\"-149.3\" font-family=\"Helvetica,sans-Serif\" font-size=\"14.00\" fill=\"#000000\">samples = 3</text>\n<text text-anchor=\"start\" x=\"20.5\" y=\"-134.3\" font-family=\"Helvetica,sans-Serif\" font-size=\"14.00\" fill=\"#000000\">value = [0, 0, 3]</text>\n<text text-anchor=\"start\" x=\"18.5\" y=\"-119.3\" font-family=\"Helvetica,sans-Serif\" font-size=\"14.00\" fill=\"#000000\">class = virginica</text>\n</g>\n<!-- 5&#45;&gt;6 -->\n<g id=\"edge6\" class=\"edge\">\n<title>5&#45;&gt;6</title>\n<path fill=\"none\" stroke=\"#000000\" d=\"M172.089,-222.8796C156.2006,-210.8368 138.8909,-197.7167 123.1143,-185.7586\"/>\n<polygon fill=\"#000000\" stroke=\"#000000\" points=\"125.1031,-182.8743 115.0195,-179.623 120.8747,-188.4529 125.1031,-182.8743\"/>\n</g>\n<!-- 7 -->\n<g id=\"node8\" class=\"node\">\n<title>7</title>\n<path fill=\"#ffffff\" stroke=\"#000000\" d=\"M302.5,-187C302.5,-187 159.5,-187 159.5,-187 153.5,-187 147.5,-181 147.5,-175 147.5,-175 147.5,-116 147.5,-116 147.5,-110 153.5,-104 159.5,-104 159.5,-104 302.5,-104 302.5,-104 308.5,-104 314.5,-110 314.5,-116 314.5,-116 314.5,-175 314.5,-175 314.5,-181 308.5,-187 302.5,-187\"/>\n<text text-anchor=\"start\" x=\"155.5\" y=\"-171.8\" font-family=\"Helvetica,sans-Serif\" font-size=\"14.00\" fill=\"#000000\">petal length (cm) ≤ 5.45</text>\n<text text-anchor=\"start\" x=\"201.5\" y=\"-156.8\" font-family=\"Helvetica,sans-Serif\" font-size=\"14.00\" fill=\"#000000\">gini = 0.5</text>\n<text text-anchor=\"start\" x=\"191.5\" y=\"-141.8\" font-family=\"Helvetica,sans-Serif\" font-size=\"14.00\" fill=\"#000000\">samples = 2</text>\n<text text-anchor=\"start\" x=\"181.5\" y=\"-126.8\" font-family=\"Helvetica,sans-Serif\" font-size=\"14.00\" fill=\"#000000\">value = [0, 1, 1]</text>\n<text text-anchor=\"start\" x=\"175\" y=\"-111.8\" font-family=\"Helvetica,sans-Serif\" font-size=\"14.00\" fill=\"#000000\">class = versicolor</text>\n</g>\n<!-- 5&#45;&gt;7 -->\n<g id=\"edge7\" class=\"edge\">\n<title>5&#45;&gt;7</title>\n<path fill=\"none\" stroke=\"#000000\" d=\"M228.399,-222.8796C228.6745,-214.6838 228.9668,-205.9891 229.2521,-197.5013\"/>\n<polygon fill=\"#000000\" stroke=\"#000000\" points=\"232.757,-197.41 229.595,-187.2981 225.761,-197.1748 232.757,-197.41\"/>\n</g>\n<!-- 8 -->\n<g id=\"node9\" class=\"node\">\n<title>8</title>\n<path fill=\"#39e581\" stroke=\"#000000\" d=\"M212,-68C212,-68 108,-68 108,-68 102,-68 96,-62 96,-56 96,-56 96,-12 96,-12 96,-6 102,0 108,0 108,0 212,0 212,0 218,0 224,-6 224,-12 224,-12 224,-56 224,-56 224,-62 218,-68 212,-68\"/>\n<text text-anchor=\"start\" x=\"130.5\" y=\"-52.8\" font-family=\"Helvetica,sans-Serif\" font-size=\"14.00\" fill=\"#000000\">gini = 0.0</text>\n<text text-anchor=\"start\" x=\"120.5\" y=\"-37.8\" font-family=\"Helvetica,sans-Serif\" font-size=\"14.00\" fill=\"#000000\">samples = 1</text>\n<text text-anchor=\"start\" x=\"110.5\" y=\"-22.8\" font-family=\"Helvetica,sans-Serif\" font-size=\"14.00\" fill=\"#000000\">value = [0, 1, 0]</text>\n<text text-anchor=\"start\" x=\"104\" y=\"-7.8\" font-family=\"Helvetica,sans-Serif\" font-size=\"14.00\" fill=\"#000000\">class = versicolor</text>\n</g>\n<!-- 7&#45;&gt;8 -->\n<g id=\"edge8\" class=\"edge\">\n<title>7&#45;&gt;8</title>\n<path fill=\"none\" stroke=\"#000000\" d=\"M204.5622,-103.9815C198.944,-95.1585 193.0012,-85.8258 187.3497,-76.9506\"/>\n<polygon fill=\"#000000\" stroke=\"#000000\" points=\"190.1416,-74.8188 181.8181,-68.2637 184.2371,-78.5787 190.1416,-74.8188\"/>\n</g>\n<!-- 9 -->\n<g id=\"node10\" class=\"node\">\n<title>9</title>\n<path fill=\"#8139e5\" stroke=\"#000000\" d=\"M349.5,-68C349.5,-68 254.5,-68 254.5,-68 248.5,-68 242.5,-62 242.5,-56 242.5,-56 242.5,-12 242.5,-12 242.5,-6 248.5,0 254.5,0 254.5,0 349.5,0 349.5,0 355.5,0 361.5,-6 361.5,-12 361.5,-12 361.5,-56 361.5,-56 361.5,-62 355.5,-68 349.5,-68\"/>\n<text text-anchor=\"start\" x=\"272.5\" y=\"-52.8\" font-family=\"Helvetica,sans-Serif\" font-size=\"14.00\" fill=\"#000000\">gini = 0.0</text>\n<text text-anchor=\"start\" x=\"262.5\" y=\"-37.8\" font-family=\"Helvetica,sans-Serif\" font-size=\"14.00\" fill=\"#000000\">samples = 1</text>\n<text text-anchor=\"start\" x=\"252.5\" y=\"-22.8\" font-family=\"Helvetica,sans-Serif\" font-size=\"14.00\" fill=\"#000000\">value = [0, 0, 1]</text>\n<text text-anchor=\"start\" x=\"250.5\" y=\"-7.8\" font-family=\"Helvetica,sans-Serif\" font-size=\"14.00\" fill=\"#000000\">class = virginica</text>\n</g>\n<!-- 7&#45;&gt;9 -->\n<g id=\"edge9\" class=\"edge\">\n<title>7&#45;&gt;9</title>\n<path fill=\"none\" stroke=\"#000000\" d=\"M257.4378,-103.9815C263.056,-95.1585 268.9988,-85.8258 274.6503,-76.9506\"/>\n<polygon fill=\"#000000\" stroke=\"#000000\" points=\"277.7629,-78.5787 280.1819,-68.2637 271.8584,-74.8188 277.7629,-78.5787\"/>\n</g>\n<!-- 11 -->\n<g id=\"node12\" class=\"node\">\n<title>11</title>\n<path fill=\"#ab7bee\" stroke=\"#000000\" d=\"M472.5,-306C472.5,-306 339.5,-306 339.5,-306 333.5,-306 327.5,-300 327.5,-294 327.5,-294 327.5,-235 327.5,-235 327.5,-229 333.5,-223 339.5,-223 339.5,-223 472.5,-223 472.5,-223 478.5,-223 484.5,-229 484.5,-235 484.5,-235 484.5,-294 484.5,-294 484.5,-300 478.5,-306 472.5,-306\"/>\n<text text-anchor=\"start\" x=\"335.5\" y=\"-290.8\" font-family=\"Helvetica,sans-Serif\" font-size=\"14.00\" fill=\"#000000\">sepal width (cm) ≤ 3.1</text>\n<text text-anchor=\"start\" x=\"368\" y=\"-275.8\" font-family=\"Helvetica,sans-Serif\" font-size=\"14.00\" fill=\"#000000\">gini = 0.375</text>\n<text text-anchor=\"start\" x=\"366.5\" y=\"-260.8\" font-family=\"Helvetica,sans-Serif\" font-size=\"14.00\" fill=\"#000000\">samples = 4</text>\n<text text-anchor=\"start\" x=\"356.5\" y=\"-245.8\" font-family=\"Helvetica,sans-Serif\" font-size=\"14.00\" fill=\"#000000\">value = [0, 1, 3]</text>\n<text text-anchor=\"start\" x=\"354.5\" y=\"-230.8\" font-family=\"Helvetica,sans-Serif\" font-size=\"14.00\" fill=\"#000000\">class = virginica</text>\n</g>\n<!-- 10&#45;&gt;11 -->\n<g id=\"edge11\" class=\"edge\">\n<title>10&#45;&gt;11</title>\n<path fill=\"none\" stroke=\"#000000\" d=\"M407.3005,-341.8796C407.1628,-333.6838 407.0166,-324.9891 406.874,-316.5013\"/>\n<polygon fill=\"#000000\" stroke=\"#000000\" points=\"410.3701,-316.2378 406.7025,-306.2981 403.3711,-316.3555 410.3701,-316.2378\"/>\n</g>\n<!-- 14 -->\n<g id=\"node15\" class=\"node\">\n<title>14</title>\n<path fill=\"#8139e5\" stroke=\"#000000\" d=\"M613.5,-298.5C613.5,-298.5 514.5,-298.5 514.5,-298.5 508.5,-298.5 502.5,-292.5 502.5,-286.5 502.5,-286.5 502.5,-242.5 502.5,-242.5 502.5,-236.5 508.5,-230.5 514.5,-230.5 514.5,-230.5 613.5,-230.5 613.5,-230.5 619.5,-230.5 625.5,-236.5 625.5,-242.5 625.5,-242.5 625.5,-286.5 625.5,-286.5 625.5,-292.5 619.5,-298.5 613.5,-298.5\"/>\n<text text-anchor=\"start\" x=\"534.5\" y=\"-283.3\" font-family=\"Helvetica,sans-Serif\" font-size=\"14.00\" fill=\"#000000\">gini = 0.0</text>\n<text text-anchor=\"start\" x=\"520\" y=\"-268.3\" font-family=\"Helvetica,sans-Serif\" font-size=\"14.00\" fill=\"#000000\">samples = 34</text>\n<text text-anchor=\"start\" x=\"510.5\" y=\"-253.3\" font-family=\"Helvetica,sans-Serif\" font-size=\"14.00\" fill=\"#000000\">value = [0, 0, 34]</text>\n<text text-anchor=\"start\" x=\"512.5\" y=\"-238.3\" font-family=\"Helvetica,sans-Serif\" font-size=\"14.00\" fill=\"#000000\">class = virginica</text>\n</g>\n<!-- 10&#45;&gt;14 -->\n<g id=\"edge14\" class=\"edge\">\n<title>10&#45;&gt;14</title>\n<path fill=\"none\" stroke=\"#000000\" d=\"M462.5612,-341.8796C478.3484,-329.8368 495.5479,-316.7167 511.2241,-304.7586\"/>\n<polygon fill=\"#000000\" stroke=\"#000000\" points=\"513.4392,-307.4709 519.2673,-298.623 509.1937,-301.9053 513.4392,-307.4709\"/>\n</g>\n<!-- 12 -->\n<g id=\"node13\" class=\"node\">\n<title>12</title>\n<path fill=\"#8139e5\" stroke=\"#000000\" d=\"M451.5,-179.5C451.5,-179.5 356.5,-179.5 356.5,-179.5 350.5,-179.5 344.5,-173.5 344.5,-167.5 344.5,-167.5 344.5,-123.5 344.5,-123.5 344.5,-117.5 350.5,-111.5 356.5,-111.5 356.5,-111.5 451.5,-111.5 451.5,-111.5 457.5,-111.5 463.5,-117.5 463.5,-123.5 463.5,-123.5 463.5,-167.5 463.5,-167.5 463.5,-173.5 457.5,-179.5 451.5,-179.5\"/>\n<text text-anchor=\"start\" x=\"374.5\" y=\"-164.3\" font-family=\"Helvetica,sans-Serif\" font-size=\"14.00\" fill=\"#000000\">gini = 0.0</text>\n<text text-anchor=\"start\" x=\"364.5\" y=\"-149.3\" font-family=\"Helvetica,sans-Serif\" font-size=\"14.00\" fill=\"#000000\">samples = 3</text>\n<text text-anchor=\"start\" x=\"354.5\" y=\"-134.3\" font-family=\"Helvetica,sans-Serif\" font-size=\"14.00\" fill=\"#000000\">value = [0, 0, 3]</text>\n<text text-anchor=\"start\" x=\"352.5\" y=\"-119.3\" font-family=\"Helvetica,sans-Serif\" font-size=\"14.00\" fill=\"#000000\">class = virginica</text>\n</g>\n<!-- 11&#45;&gt;12 -->\n<g id=\"edge12\" class=\"edge\">\n<title>11&#45;&gt;12</title>\n<path fill=\"none\" stroke=\"#000000\" d=\"M405.3005,-222.8796C405.1212,-212.2134 404.9278,-200.7021 404.7462,-189.9015\"/>\n<polygon fill=\"#000000\" stroke=\"#000000\" points=\"408.2444,-189.7547 404.5767,-179.8149 401.2454,-189.8724 408.2444,-189.7547\"/>\n</g>\n<!-- 13 -->\n<g id=\"node14\" class=\"node\">\n<title>13</title>\n<path fill=\"#39e581\" stroke=\"#000000\" d=\"M598,-179.5C598,-179.5 494,-179.5 494,-179.5 488,-179.5 482,-173.5 482,-167.5 482,-167.5 482,-123.5 482,-123.5 482,-117.5 488,-111.5 494,-111.5 494,-111.5 598,-111.5 598,-111.5 604,-111.5 610,-117.5 610,-123.5 610,-123.5 610,-167.5 610,-167.5 610,-173.5 604,-179.5 598,-179.5\"/>\n<text text-anchor=\"start\" x=\"516.5\" y=\"-164.3\" font-family=\"Helvetica,sans-Serif\" font-size=\"14.00\" fill=\"#000000\">gini = 0.0</text>\n<text text-anchor=\"start\" x=\"506.5\" y=\"-149.3\" font-family=\"Helvetica,sans-Serif\" font-size=\"14.00\" fill=\"#000000\">samples = 1</text>\n<text text-anchor=\"start\" x=\"496.5\" y=\"-134.3\" font-family=\"Helvetica,sans-Serif\" font-size=\"14.00\" fill=\"#000000\">value = [0, 1, 0]</text>\n<text text-anchor=\"start\" x=\"490\" y=\"-119.3\" font-family=\"Helvetica,sans-Serif\" font-size=\"14.00\" fill=\"#000000\">class = versicolor</text>\n</g>\n<!-- 11&#45;&gt;13 -->\n<g id=\"edge13\" class=\"edge\">\n<title>11&#45;&gt;13</title>\n<path fill=\"none\" stroke=\"#000000\" d=\"M454.9652,-222.8796C468.8073,-211.1138 483.8592,-198.3197 497.6641,-186.5855\"/>\n<polygon fill=\"#000000\" stroke=\"#000000\" points=\"500.2769,-188.9582 505.6295,-179.8149 495.7433,-183.6247 500.2769,-188.9582\"/>\n</g>\n</g>\n</svg>\n"
          },
          "metadata": {
            "tags": []
          },
          "execution_count": 41
        }
      ]
    },
    {
      "cell_type": "code",
      "metadata": {
        "id": "yzRxdE6Dzjn_",
        "colab_type": "code",
        "colab": {}
      },
      "source": [
        "y_pred = dt.predict(X_test)"
      ],
      "execution_count": 0,
      "outputs": []
    },
    {
      "cell_type": "code",
      "metadata": {
        "id": "IO_TOef153Ch",
        "colab_type": "code",
        "outputId": "958dcef0-66b0-4997-d70e-dd4697c98fc5",
        "colab": {
          "base_uri": "https://localhost:8080/",
          "height": 68
        }
      },
      "source": [
        "from sklearn.metrics import confusion_matrix\n",
        "confusion_matrix = confusion_matrix(y_test, y_pred)\n",
        "print(confusion_matrix)"
      ],
      "execution_count": 0,
      "outputs": [
        {
          "output_type": "stream",
          "text": [
            "[[13  0  0]\n",
            " [ 0 15  1]\n",
            " [ 0  0  9]]\n"
          ],
          "name": "stdout"
        }
      ]
    },
    {
      "cell_type": "code",
      "metadata": {
        "id": "nA3iMxZM6B4Z",
        "colab_type": "code",
        "outputId": "73348ad1-b54f-449c-c301-69649f79a4e0",
        "colab": {
          "base_uri": "https://localhost:8080/",
          "height": 34
        }
      },
      "source": [
        "print('Accuracy of DEcision Tree classifier on test set: {:.2f}'.format(dt.score(X_test, y_test)))"
      ],
      "execution_count": 0,
      "outputs": [
        {
          "output_type": "stream",
          "text": [
            "Accuracy of DEcision Tree classifier on test set: 0.97\n"
          ],
          "name": "stdout"
        }
      ]
    },
    {
      "cell_type": "code",
      "metadata": {
        "id": "SCQg-XEbzqCh",
        "colab_type": "code",
        "outputId": "1f50e7a2-79e3-49e9-f5da-f9a64418656c",
        "colab": {
          "base_uri": "https://localhost:8080/",
          "height": 187
        }
      },
      "source": [
        "from sklearn.metrics import classification_report\n",
        "print(classification_report(y_test, y_pred))"
      ],
      "execution_count": 0,
      "outputs": [
        {
          "output_type": "stream",
          "text": [
            "                 precision    recall  f1-score   support\n",
            "\n",
            "    Iris-setosa       1.00      1.00      1.00        13\n",
            "Iris-versicolor       1.00      0.94      0.97        16\n",
            " Iris-virginica       0.90      1.00      0.95         9\n",
            "\n",
            "       accuracy                           0.97        38\n",
            "      macro avg       0.97      0.98      0.97        38\n",
            "   weighted avg       0.98      0.97      0.97        38\n",
            "\n"
          ],
          "name": "stdout"
        }
      ]
    },
    {
      "cell_type": "code",
      "metadata": {
        "id": "bMz03HFE6U-x",
        "colab_type": "code",
        "outputId": "bef46300-6a70-4f33-e07a-df4bcb969d36",
        "colab": {
          "base_uri": "https://localhost:8080/",
          "height": 269
        }
      },
      "source": [
        "import seaborn as sns\n",
        "# Calculate and plot\n",
        "corr_matrix = iris_df.corr()\n",
        "sns.heatmap(corr_matrix);"
      ],
      "execution_count": 0,
      "outputs": [
        {
          "output_type": "display_data",
          "data": {
            "image/png": "[encoded data removed]",
            "text/plain": [
              "<Figure size 432x288 with 2 Axes>"
            ]
          },
          "metadata": {
            "tags": []
          }
        }
      ]
    },
    {
      "cell_type": "code",
      "metadata": {
        "id": "lSbvrr1bDsJf",
        "colab_type": "code",
        "colab": {}
      },
      "source": [
        "#importing iris dataset\n",
        "from sklearn.datasets import load_iris\n",
        "from sklearn import tree\n",
        "X, y = load_iris(return_X_y=True)"
      ],
      "execution_count": 0,
      "outputs": []
    },
    {
      "cell_type": "code",
      "metadata": {
        "id": "XUDHhTy6_QZw",
        "colab_type": "code",
        "colab": {}
      },
      "source": [
        "import numpy as np\n",
        "\n",
        "\n",
        "\n",
        "class DecisionTreeClassifier:\n",
        "\n",
        "    def __init__(self, max_depth=None):\n",
        "\n",
        "        self.max_depth = max_depth"
      ],
      "execution_count": 0,
      "outputs": []
    },
    {
      "cell_type": "code",
      "metadata": {
        "id": "dTOuHaFFDIjH",
        "colab_type": "code",
        "colab": {}
      },
      "source": [
        "# best split method\n",
        "def _best_split(self, X, y):\n",
        "\n",
        "        #\"\"\"Find the best split for a node. \"Best\" means that the average impurity of the two children, weighted by their population, is the smallest possible. Additionally it must be less than the\n",
        "#impurity of the current node.\n",
        "\n",
        "        \n",
        "        #To find the best split, we loop through all the features, and consider all the\n",
        "\n",
        "        #midpoints between adjacent training samples as possible thresholds. We compute\n",
        "\n",
        "        \n",
        "        #the Gini impurity of the split generated by that particular feature/threshold\n",
        "\n",
        "        #pair, and return the pair with smallest impurity.\n",
        "\n",
        "        #Returns:\n",
        "\n",
        "           # best_idx: Index of the feature for best split, or None if no split is found.\n",
        "\n",
        "           # best_thr: Threshold to use for the split, or None if no split is found.\n",
        "\n",
        "        #\"\"\"\n",
        "\n",
        "        # Need at least two elements to split a node.\n",
        "\n",
        "        m = y.size\n",
        "\n",
        "        if m <= 1:\n",
        "\n",
        "            return None, None\n",
        "\n",
        "\n",
        "\n",
        "        # Count of each class in the current node.\n",
        "\n",
        "        num_parent = [np.sum(y == c) for c in range(self.n_classes_)]\n",
        "\n",
        "\n",
        "\n",
        "        # Gini of current node.\n",
        "\n",
        "        best_gini = 1.0 - sum((n / m) ** 2 for n in num_parent)\n",
        "\n",
        "        best_idx, best_thr = None, None\n",
        "\n",
        "\n",
        "\n",
        "        # Loop through all features.\n",
        "\n",
        "        for idx in range(self.n_features_):\n",
        "\n",
        "            # Sort data along selected feature.\n",
        "\n",
        "            thresholds, classes = zip(*sorted(zip(X[:, idx], y)))\n",
        "\n",
        "\n",
        "\n",
        "            # We could actually split the node according to each feature/threshold pair\n",
        "\n",
        "            # and count the resulting population for each class in the children, but\n",
        "\n",
        "            # instead we compute them in an iterative fashion, making this for loop\n",
        "\n",
        "            # linear rather than quadratic.\n",
        "\n",
        "            num_left = [0] * self.n_classes_\n",
        "\n",
        "            num_right = num_parent.copy()\n",
        "\n",
        "            for i in range(1, m):  # possible split positions\n",
        "\n",
        "                c = classes[i - 1]\n",
        "\n",
        "                num_left[c] += 1\n",
        "\n",
        "                num_right[c] -= 1\n",
        "\n",
        "                gini_left = 1.0 - sum(\n",
        "\n",
        "                    (num_left[x] / i) ** 2 for x in range(self.n_classes_)\n",
        "\n",
        "                )\n",
        "\n",
        "                gini_right = 1.0 - sum(\n",
        "\n",
        "                    (num_right[x] / (m - i)) ** 2 for x in range(self.n_classes_)\n",
        "\n",
        "                )\n",
        "\n",
        "\n",
        "\n",
        "                # The Gini impurity of a split is the weighted average of the Gini\n",
        "\n",
        "                # impurity of the children.\n",
        "\n",
        "                gini = (i * gini_left + (m - i) * gini_right) / m\n",
        "\n",
        "\n",
        "\n",
        "                # The following condition is to make sure we don't try to split two\n",
        "\n",
        "                # points with identical values for that feature, as it is impossible\n",
        "\n",
        "                # (both have to end up on the same side of a split).\n",
        "\n",
        "                if thresholds[i] == thresholds[i - 1]:\n",
        "\n",
        "                    continue\n",
        "\n",
        "\n",
        "\n",
        "                if gini < best_gini:\n",
        "\n",
        "                    best_gini = gini\n",
        "\n",
        "                    best_idx = idx\n",
        "\n",
        "                    best_thr = (thresholds[i] + thresholds[i - 1]) / 2  # midpoint\n",
        "\n",
        "\n",
        "\n",
        "        return best_idx, best_thr"
      ],
      "execution_count": 0,
      "outputs": []
    },
    {
      "cell_type": "code",
      "metadata": {
        "id": "Tia6V0U7EMUA",
        "colab_type": "code",
        "colab": {}
      },
      "source": [
        "#recursion:split each node recursively until the maximum depth is reached.\n",
        "\n",
        "class Node:\n",
        "\n",
        "    def __init__(self, gini, num_samples, num_samples_per_class, predicted_class):\n",
        "\n",
        "        self.gini = gini\n",
        "\n",
        "        self.num_samples = num_samples\n",
        "\n",
        "        self.num_samples_per_class = num_samples_per_class\n",
        "\n",
        "        self.predicted_class = predicted_class\n",
        "\n",
        "        self.feature_index = 0\n",
        "\n",
        "        self.threshold = 0\n",
        "\n",
        "        self.left = None\n",
        "\n",
        "        self.right = None"
      ],
      "execution_count": 0,
      "outputs": []
    },
    {
      "cell_type": "code",
      "metadata": {
        "id": "_3Nj05xzEeFV",
        "colab_type": "code",
        "colab": {}
      },
      "source": [
        "# Fitting a decision tree to data X and targets y is done via the fit() method which calls a recursive method _grow_tree():\n",
        "class DecisionTreeClassifier:\n",
        "\n",
        "    def fit(self, X, y):\n",
        "\n",
        "        #\"\"\"Build decision tree classifier.\"\"\"\n",
        "\n",
        "        self.n_classes_ = len(set(y))  # classes are assumed to go from 0 to n-1\n",
        "\n",
        "        self.n_features_ = X.shape[1]\n",
        "\n",
        "        self.tree_ = self._grow_tree(X, y)\n",
        "\n",
        "\n",
        "\n",
        "    def _grow_tree(self, X, y, depth=0):\n",
        "\n",
        "       # \"\"\"Build a decision tree by recursively finding the best split.\"\"\"\n",
        "        # Population for each class in current node. The predicted class is the one with\n",
        "\n",
        "        # largest population.\n",
        "\n",
        "        num_samples_per_class = [np.sum(y == i) for i in range(self.n_classes_)]\n",
        "\n",
        "        predicted_class = np.argmax(num_samples_per_class)\n",
        "\n",
        "        node = Node(\n",
        "\n",
        "            gini=self._gini(y),\n",
        "\n",
        "            num_samples=y.size,\n",
        "\n",
        "            num_samples_per_class=num_samples_per_class,\n",
        "\n",
        "            predicted_class=predicted_class,\n",
        "\n",
        "        )\n",
        "\n",
        "\n",
        "\n",
        "        # Split recursively until maximum depth is reached.\n",
        "\n",
        "        if depth < self.max_depth:\n",
        "\n",
        "            idx, thr = self._best_split(X, y)\n",
        "\n",
        "            if idx is not None:\n",
        "\n",
        "                indices_left = X[:, idx] < thr\n",
        "\n",
        "                X_left, y_left = X[indices_left], y[indices_left]\n",
        "\n",
        "                X_right, y_right = X[~indices_left], y[~indices_left]\n",
        "\n",
        "                node.feature_index = idx\n",
        "\n",
        "                node.threshold = thr\n",
        "\n",
        "                node.left = self._grow_tree(X_left, y_left, depth + 1)\n",
        "\n",
        "                node.right = self._grow_tree(X_right, y_right, depth + 1)\n",
        "\n",
        "        return node"
      ],
      "execution_count": 0,
      "outputs": []
    },
    {
      "cell_type": "code",
      "metadata": {
        "id": "x7pA7xAYFP0d",
        "colab_type": "code",
        "colab": {}
      },
      "source": [
        "#Predictions\n",
        "class DecisionTreeClassifier:\n",
        "\n",
        "    def predict(self, X):\n",
        "\n",
        "        return [self._predict(inputs) for inputs in X]\n",
        "\n",
        "\n",
        "\n",
        "    def _predict(self, inputs):\n",
        "\n",
        "       # \"\"\"Predict class for a single sample.\"\"\"\n",
        "\n",
        "        node = self.tree_\n",
        "\n",
        "        while node.left:\n",
        "\n",
        "            if inputs[node.feature_index] < node.threshold:\n",
        "\n",
        "                node = node.left\n",
        "\n",
        "            else:\n",
        "\n",
        "                node = node.right\n",
        "\n",
        "        return node.predicted_class"
      ],
      "execution_count": 0,
      "outputs": []
    },
    {
      "cell_type": "code",
      "metadata": {
        "id": "dpX7pWRKFf4T",
        "colab_type": "code",
        "colab": {}
      },
      "source": [
        "\n",
        "import pandas as pd\n",
        "\n",
        "\n",
        "\n",
        "# Load data.\n",
        "\n",
        "df = pd.read_csv(\"wifi_localization.txt\", delimiter=\"\\t\")\n",
        "\n",
        "data = df.to_numpy()\n",
        "\n",
        "X = data[:, :-1] # all columns but the last\n",
        "\n",
        "y = data[:, -1] - 1 # expected to be from 0 to n_classes - 1\n",
        "\n",
        "\n",
        "\n",
        "# Fit data.\n",
        "\n",
        "clf = DecisionTreeClassifier(max_depth=2)\n",
        "\n",
        "clf.fit(X, y)\n",
        "\n",
        "\n",
        "\n",
        "# Visualize.\n",
        "\n",
        "clf.debug(\n",
        "\n",
        "    features_names=[\"Wifi {}\".format(i) for i in range(1, 8)],\n",
        "\n",
        "    target_names=[\"Room {}\".format(i) for i in range(1, 5)],\n",
        "\n",
        ")"
      ],
      "execution_count": 0,
      "outputs": []
    },
    {
      "cell_type": "code",
      "metadata": {
        "id": "BeHwCKNeLy7t",
        "colab_type": "code",
        "outputId": "d41a1dc8-44dd-4bff-dd3b-e13abb877ba9",
        "colab": {
          "base_uri": "https://localhost:8080/",
          "height": 207
        }
      },
      "source": [
        "from sklearn.datasets import load_iris\n",
        "from sklearn.tree import DecisionTreeClassifier\n",
        "from sklearn.tree.export import export_text\n",
        "iris = load_iris()\n",
        "decision_tree = DecisionTreeClassifier(random_state=0, max_depth=2)\n",
        "decision_tree = decision_tree.fit(iris.data, iris.target)\n",
        "r = export_text(decision_tree, feature_names=iris['feature_names'])\n",
        "print(r)\n",
        "\n",
        "\n",
        "\n"
      ],
      "execution_count": 0,
      "outputs": [
        {
          "output_type": "stream",
          "text": [
            "|--- petal width (cm) <= 0.80\n",
            "|   |--- class: 0\n",
            "|--- petal width (cm) >  0.80\n",
            "|   |--- petal width (cm) <= 1.75\n",
            "|   |   |--- class: 1\n",
            "|   |--- petal width (cm) >  1.75\n",
            "|   |   |--- class: 2\n",
            "\n"
          ],
          "name": "stdout"
        },
        {
          "output_type": "stream",
          "text": [
            "/usr/local/lib/python3.6/dist-packages/sklearn/utils/deprecation.py:144: FutureWarning: The sklearn.tree.export module is  deprecated in version 0.22 and will be removed in version 0.24. The corresponding classes / functions should instead be imported from sklearn.tree. Anything that cannot be imported from sklearn.tree is now part of the private API.\n",
            "  warnings.warn(message, FutureWarning)\n"
          ],
          "name": "stderr"
        }
      ]
    }
  ]
}